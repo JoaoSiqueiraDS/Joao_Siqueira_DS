{
  "nbformat": 4,
  "nbformat_minor": 0,
  "metadata": {
    "colab": {
      "name": "Introdução ao Pandas.ipynb",
      "provenance": [],
      "collapsed_sections": [],
      "include_colab_link": true
    },
    "kernelspec": {
      "name": "python3",
      "display_name": "Python 3"
    }
  },
  "cells": [
    {
      "cell_type": "markdown",
      "metadata": {
        "id": "view-in-github",
        "colab_type": "text"
      },
      "source": [
        "<a href=\"https://colab.research.google.com/github/JoaoVitorMarques14/JoaoMarques/blob/master/Intro_to_Pandas_V3.ipynb\" target=\"_parent\"><img src=\"https://colab.research.google.com/assets/colab-badge.svg\" alt=\"Open In Colab\"/></a>"
      ]
    },
    {
      "cell_type": "markdown",
      "metadata": {
        "id": "vvplGyW2N3rX",
        "colab_type": "text"
      },
      "source": [
        "<img alt=\"Colaboratory logo\" width=\"15%\" src=\"https://raw.githubusercontent.com/carlosfab/escola-data-science/master/img/novo_logo_bg_claro.png\">\n",
        "\n",
        "#### **Data Science na Prática 2.0**\n",
        "*by [sigmoidal.ai](https://sigmoidal.ai)*\n",
        "\n",
        "---\n",
        "\n",
        "# Introdução ao Pandas\n",
        "\n",
        "Pandas é uma biblioteca do Python, provavelmente a mais popular de todas quando se trata de *Data Science*.\n",
        "\n",
        "Por meio do Pandas, você consegue importar dados (arquivos `csv`e `xls`, por exemplo), tratar esses dados, transformá-los e realizar análises completas dos mesmos.\n",
        "\n",
        "Uma vez que você importa um conjunto de dados usando Pandas, fica muito fácil fazer coisas do tipo:\n",
        "\n",
        "* Extrai informações estatísticas\n",
        "  * Qual a média, mediana, valores máximos e mínimos?\n",
        "  * Qual é a distribuição das suas variáveis?\n",
        "  * Qual a correlação entre duas variáveis quaisquer?\n",
        "* Exportar os dados para um novo formato de arquivo\n",
        "* Visualizar gráficos dos mais diferentes tipos\n",
        "* Alimentar modelos de *machine learning* feitos em cima do Scikit-learn\n",
        "\n",
        "Pandas é construído em cima de outra biblioteca extremamente popular, o **NumPy**. Quem já utilizou esta, vai encontrar muita similaridade com aquela."
      ]
    },
    {
      "cell_type": "markdown",
      "metadata": {
        "id": "NtGy-OuUS6ba",
        "colab_type": "text"
      },
      "source": [
        "## Instalando e utilizando o Pandas\n",
        "\n",
        "Caso você esteja rodando o código na sua máquina local, o Pandas pode ser instalado pela linha de comando usando o seu gerenciador de pacotes (`pip` ou `conda`).\n",
        "\n",
        "Dependendo de qual deles seja, o comando que você deve usar é\n",
        "\n",
        "`pip install pandas`\n",
        "\n",
        "ou \n",
        "\n",
        "`conda install pandas`\n",
        "\n",
        "Como estamos usando o Colab neste curso, o Pandas vem instalado por padrão. Ou seja, a única coisa que você precisa é importar o pacote. Normalmente, para importar qualquer pacote basta apenas usar o comando `import nome_do_pacote`.\n",
        "\n",
        "No entanto, é muito comum a gente importar o Pandas usando `import pandas as pd` para abreviar o nome da biblioteca. Se você reparar em projetos de outros cientistas de dados, vai ver que esse é (provavelmente) a maneira que eles utilizam."
      ]
    },
    {
      "cell_type": "code",
      "metadata": {
        "id": "e3hcsBp1TdWE",
        "colab_type": "code",
        "colab": {}
      },
      "source": [
        "# importar a biblioteca pandas\n",
        "import pandas as pd"
      ],
      "execution_count": 1,
      "outputs": []
    },
    {
      "cell_type": "markdown",
      "metadata": {
        "id": "SQPlLLa_b4qC",
        "colab_type": "text"
      },
      "source": [
        "### Importar arquivos `csv`\n",
        "\n",
        "Para dar um exemplo de como é simples importar dados com o Pandas, veja o seguinte exemplo.\n",
        "\n",
        "Pelo site [Yahoo Finance](https://finance.yahoo.com), baixei os dados da ação ordinária do Zoom video conferences (ZM) em formato `csv` e disponibilizei o arquivo [neste link](https://raw.githubusercontent.com/JoaoVitorMarques14/dataset/master/ZM.csv). Se eu abrir esse arquivo na minha máquina pelo Excel, é assim que ele vai aparecer para mim:\n",
        "\n",
        "<center><img src=\"https://raw.githubusercontent.com/carlosfab/curso_data_science_na_pratica/master/modulo_02/bbas3_excel.png\" height=\"300px\"></center>\n",
        "\n",
        "Importar esse mesmo arquivo usando o Pandas é tão simples quanto executar a função `pd.read_csv(\"local_do_arquivo.csv\")`, informando qual o endereço que o `csv` se encontra (endereço na internet ou caminho na máquia local.\n",
        "\n"
      ]
    },
    {
      "cell_type": "code",
      "metadata": {
        "id": "ve_UpCilezaa",
        "colab_type": "code",
        "colab": {}
      },
      "source": [
        "# importar o arquivo csv para o Pandas\n",
        "df = pd.read_csv(\"https://raw.githubusercontent.com/JoaoVitorMarques14/dataset/master/ZM.csv\")"
      ],
      "execution_count": 2,
      "outputs": []
    },
    {
      "cell_type": "markdown",
      "metadata": {
        "id": "z-5wV1LoUJqR",
        "colab_type": "text"
      },
      "source": [
        "Pronto! O arquivo `BBAS3.SA.csv` foi importado com sucesso e já está pronto para ser usado neste *notebook*. \n",
        "\n",
        "### Conhecendo os componentes básicos do Pandas\n",
        "\n",
        "Os dois componentes básicos que a gente deve conhecer quando lidando com Pandas são `Series` e `DataFrame`. \n",
        "\n",
        "<center><img src=\"https://raw.githubusercontent.com/carlosfab/curso_data_science_na_pratica/master/modulo_02/componentes_pandas.png\"></center>\n",
        "\n",
        "Simplificadamente, você pode pensar o `DataFrame` como sendo uma planilha de Excel, e `Series` como sendo apenas uma coluna individual.\n",
        "\n",
        "Apesar de parecer conceitualmente simples, estas duas estruturas nativas do Pandas facilitam muito o trabalho com dados, uma vez que elas podem armazenar qualquer tipo de dado.\n",
        "\n",
        "* `type()` - mostra qual o tipo da variável\n"
      ]
    },
    {
      "cell_type": "code",
      "metadata": {
        "id": "f-sqkuQwaRuc",
        "colab_type": "code",
        "colab": {
          "base_uri": "https://localhost:8080/",
          "height": 34
        },
        "outputId": "6a0c7d71-9610-4da3-c213-2efdcebc70f6"
      },
      "source": [
        "# ver o tipo da variável df\n",
        "type(df)"
      ],
      "execution_count": 3,
      "outputs": [
        {
          "output_type": "execute_result",
          "data": {
            "text/plain": [
              "pandas.core.frame.DataFrame"
            ]
          },
          "metadata": {
            "tags": []
          },
          "execution_count": 3
        }
      ]
    },
    {
      "cell_type": "code",
      "metadata": {
        "id": "8BPjwOX4hYk2",
        "colab_type": "code",
        "colab": {
          "base_uri": "https://localhost:8080/",
          "height": 34
        },
        "outputId": "980a6ae3-50de-4af5-a981-2c2ae9d7a382"
      },
      "source": [
        "# ver o tipo de uma coluna da variável df\n",
        "type(df[\"High\"])"
      ],
      "execution_count": 5,
      "outputs": [
        {
          "output_type": "execute_result",
          "data": {
            "text/plain": [
              "pandas.core.series.Series"
            ]
          },
          "metadata": {
            "tags": []
          },
          "execution_count": 5
        }
      ]
    },
    {
      "cell_type": "markdown",
      "metadata": {
        "id": "4A-F1ajofEjs",
        "colab_type": "text"
      },
      "source": [
        "### Ver dimensões do DataFrame\n",
        "\n",
        "Veja novamente a imagem acima. Basicamente, o arquivo que importamos se parece com uma simples tabela de Excel, composta por linhas e colunas. Para você ver o tamanho dessa \"tabela\", o que significa ver o formato (*shape*) dela, basta executar `df.shape`."
      ]
    },
    {
      "cell_type": "code",
      "metadata": {
        "id": "fkap8AgUgG-5",
        "colab_type": "code",
        "colab": {
          "base_uri": "https://localhost:8080/",
          "height": 34
        },
        "outputId": "55a1081b-18cf-41fa-c267-295e8dd68758"
      },
      "source": [
        "# ver o tamanho do dataframe (formato)\n",
        "df.shape"
      ],
      "execution_count": 6,
      "outputs": [
        {
          "output_type": "execute_result",
          "data": {
            "text/plain": [
              "(254, 7)"
            ]
          },
          "metadata": {
            "tags": []
          },
          "execution_count": 6
        }
      ]
    },
    {
      "cell_type": "markdown",
      "metadata": {
        "id": "-yQEWd6NgGxu",
        "colab_type": "text"
      },
      "source": [
        "Quando você executar a célula acima, vai receber como *output* os valores `(254, 7)`. Isso significa que o arquivo importado possui 254 linhas e 7 colunas. "
      ]
    },
    {
      "cell_type": "markdown",
      "metadata": {
        "id": "PWKUeDZrwvVt",
        "colab_type": "text"
      },
      "source": [
        "### Conhecendo os dados\n",
        "\n",
        "Uma vez que você importou a sua base de dados para o Pandas, existem muitos atributos e métodos nativos da estrutura *DataFrame* que facilitam muito a exploração de dados.\n",
        "\n",
        "Uma das principais funções da biblioteca, e que você irá usar em praticamente todos os seus projetos é `df.head()` e `df.tail()`.\n",
        "\n",
        "O arquivo `csv` com os dados da ação BBAS3 contém 248 linhas, mas o normal é você lidar com milhares ou centenas de milhares de linhas. Obviamente, seria inviável se tivessemos que olhar cada linha para entender como os dados estão apresentados.\n",
        "\n",
        "Na verdade, quando a gente importa um *dataset*, queremos dar uma olhadinha rápida em algumas entradas, só para ter noção dos dados que iremos lidar. Isso é feito facilmente com:\n",
        "\n",
        "* `df.head()` - exibe as 5 primeiras entradas do conjunto de dados\n",
        "* `df.tail()` - exibe as 5 últimas entradas do conjunto de dados"
      ]
    },
    {
      "cell_type": "code",
      "metadata": {
        "id": "24DU6xs3wu_Y",
        "colab_type": "code",
        "colab": {
          "base_uri": "https://localhost:8080/",
          "height": 195
        },
        "outputId": "2d3db50b-951a-4e77-9baf-bb9c5654274d"
      },
      "source": [
        "# mostrar as 5 primeiras entradas do DataFrame\n",
        "df.head()"
      ],
      "execution_count": 7,
      "outputs": [
        {
          "output_type": "execute_result",
          "data": {
            "text/html": [
              "<div>\n",
              "<style scoped>\n",
              "    .dataframe tbody tr th:only-of-type {\n",
              "        vertical-align: middle;\n",
              "    }\n",
              "\n",
              "    .dataframe tbody tr th {\n",
              "        vertical-align: top;\n",
              "    }\n",
              "\n",
              "    .dataframe thead th {\n",
              "        text-align: right;\n",
              "    }\n",
              "</style>\n",
              "<table border=\"1\" class=\"dataframe\">\n",
              "  <thead>\n",
              "    <tr style=\"text-align: right;\">\n",
              "      <th></th>\n",
              "      <th>Date</th>\n",
              "      <th>Open</th>\n",
              "      <th>High</th>\n",
              "      <th>Low</th>\n",
              "      <th>Close</th>\n",
              "      <th>Adj Close</th>\n",
              "      <th>Volume</th>\n",
              "    </tr>\n",
              "  </thead>\n",
              "  <tbody>\n",
              "    <tr>\n",
              "      <th>0</th>\n",
              "      <td>2019-07-22</td>\n",
              "      <td>94.190002</td>\n",
              "      <td>97.464996</td>\n",
              "      <td>93.504997</td>\n",
              "      <td>96.669998</td>\n",
              "      <td>96.669998</td>\n",
              "      <td>1483000</td>\n",
              "    </tr>\n",
              "    <tr>\n",
              "      <th>1</th>\n",
              "      <td>2019-07-23</td>\n",
              "      <td>97.500000</td>\n",
              "      <td>98.150002</td>\n",
              "      <td>93.519997</td>\n",
              "      <td>97.389999</td>\n",
              "      <td>97.389999</td>\n",
              "      <td>2241700</td>\n",
              "    </tr>\n",
              "    <tr>\n",
              "      <th>2</th>\n",
              "      <td>2019-07-24</td>\n",
              "      <td>97.120003</td>\n",
              "      <td>97.879997</td>\n",
              "      <td>94.684998</td>\n",
              "      <td>95.940002</td>\n",
              "      <td>95.940002</td>\n",
              "      <td>1283700</td>\n",
              "    </tr>\n",
              "    <tr>\n",
              "      <th>3</th>\n",
              "      <td>2019-07-25</td>\n",
              "      <td>95.839996</td>\n",
              "      <td>99.599998</td>\n",
              "      <td>95.750000</td>\n",
              "      <td>97.110001</td>\n",
              "      <td>97.110001</td>\n",
              "      <td>1870300</td>\n",
              "    </tr>\n",
              "    <tr>\n",
              "      <th>4</th>\n",
              "      <td>2019-07-26</td>\n",
              "      <td>97.949997</td>\n",
              "      <td>104.489998</td>\n",
              "      <td>97.830002</td>\n",
              "      <td>102.199997</td>\n",
              "      <td>102.199997</td>\n",
              "      <td>3040700</td>\n",
              "    </tr>\n",
              "  </tbody>\n",
              "</table>\n",
              "</div>"
            ],
            "text/plain": [
              "         Date       Open        High  ...       Close   Adj Close   Volume\n",
              "0  2019-07-22  94.190002   97.464996  ...   96.669998   96.669998  1483000\n",
              "1  2019-07-23  97.500000   98.150002  ...   97.389999   97.389999  2241700\n",
              "2  2019-07-24  97.120003   97.879997  ...   95.940002   95.940002  1283700\n",
              "3  2019-07-25  95.839996   99.599998  ...   97.110001   97.110001  1870300\n",
              "4  2019-07-26  97.949997  104.489998  ...  102.199997  102.199997  3040700\n",
              "\n",
              "[5 rows x 7 columns]"
            ]
          },
          "metadata": {
            "tags": []
          },
          "execution_count": 7
        }
      ]
    },
    {
      "cell_type": "code",
      "metadata": {
        "id": "TGf020rXwu0T",
        "colab_type": "code",
        "colab": {
          "base_uri": "https://localhost:8080/",
          "height": 195
        },
        "outputId": "6e82bd9c-0e64-41ba-ddff-da707183988f"
      },
      "source": [
        "# mostrar as 5 últimas entradas do DataFrame\n",
        "df.tail()"
      ],
      "execution_count": 8,
      "outputs": [
        {
          "output_type": "execute_result",
          "data": {
            "text/html": [
              "<div>\n",
              "<style scoped>\n",
              "    .dataframe tbody tr th:only-of-type {\n",
              "        vertical-align: middle;\n",
              "    }\n",
              "\n",
              "    .dataframe tbody tr th {\n",
              "        vertical-align: top;\n",
              "    }\n",
              "\n",
              "    .dataframe thead th {\n",
              "        text-align: right;\n",
              "    }\n",
              "</style>\n",
              "<table border=\"1\" class=\"dataframe\">\n",
              "  <thead>\n",
              "    <tr style=\"text-align: right;\">\n",
              "      <th></th>\n",
              "      <th>Date</th>\n",
              "      <th>Open</th>\n",
              "      <th>High</th>\n",
              "      <th>Low</th>\n",
              "      <th>Close</th>\n",
              "      <th>Adj Close</th>\n",
              "      <th>Volume</th>\n",
              "    </tr>\n",
              "  </thead>\n",
              "  <tbody>\n",
              "    <tr>\n",
              "      <th>249</th>\n",
              "      <td>2020-07-16</td>\n",
              "      <td>250.389999</td>\n",
              "      <td>253.000000</td>\n",
              "      <td>243.429993</td>\n",
              "      <td>248.539993</td>\n",
              "      <td>248.539993</td>\n",
              "      <td>5420100</td>\n",
              "    </tr>\n",
              "    <tr>\n",
              "      <th>250</th>\n",
              "      <td>2020-07-17</td>\n",
              "      <td>247.169998</td>\n",
              "      <td>250.936996</td>\n",
              "      <td>241.289993</td>\n",
              "      <td>246.539993</td>\n",
              "      <td>246.539993</td>\n",
              "      <td>4626600</td>\n",
              "    </tr>\n",
              "    <tr>\n",
              "      <th>251</th>\n",
              "      <td>2020-07-20</td>\n",
              "      <td>246.487000</td>\n",
              "      <td>271.350006</td>\n",
              "      <td>245.990005</td>\n",
              "      <td>268.579987</td>\n",
              "      <td>268.579987</td>\n",
              "      <td>9784900</td>\n",
              "    </tr>\n",
              "    <tr>\n",
              "      <th>252</th>\n",
              "      <td>2020-07-21</td>\n",
              "      <td>268.750000</td>\n",
              "      <td>269.750000</td>\n",
              "      <td>258.200012</td>\n",
              "      <td>260.440002</td>\n",
              "      <td>260.440002</td>\n",
              "      <td>4756600</td>\n",
              "    </tr>\n",
              "    <tr>\n",
              "      <th>253</th>\n",
              "      <td>2020-07-22</td>\n",
              "      <td>261.950012</td>\n",
              "      <td>265.320007</td>\n",
              "      <td>255.809998</td>\n",
              "      <td>260.533386</td>\n",
              "      <td>260.533386</td>\n",
              "      <td>3879541</td>\n",
              "    </tr>\n",
              "  </tbody>\n",
              "</table>\n",
              "</div>"
            ],
            "text/plain": [
              "           Date        Open        High  ...       Close   Adj Close   Volume\n",
              "249  2020-07-16  250.389999  253.000000  ...  248.539993  248.539993  5420100\n",
              "250  2020-07-17  247.169998  250.936996  ...  246.539993  246.539993  4626600\n",
              "251  2020-07-20  246.487000  271.350006  ...  268.579987  268.579987  9784900\n",
              "252  2020-07-21  268.750000  269.750000  ...  260.440002  260.440002  4756600\n",
              "253  2020-07-22  261.950012  265.320007  ...  260.533386  260.533386  3879541\n",
              "\n",
              "[5 rows x 7 columns]"
            ]
          },
          "metadata": {
            "tags": []
          },
          "execution_count": 8
        }
      ]
    },
    {
      "cell_type": "markdown",
      "metadata": {
        "id": "GLuYhDec-Dfs",
        "colab_type": "text"
      },
      "source": [
        "Um dos motivos da popularidade do Pandas é por causa dessa capacidade de conseguir mostrar os dados como se estivessem em uma tabela, um formato bem amigável para a compreensão do nosso cérebro.\n",
        "\n",
        "Compare com aquela imagem lá em cima, do Excel. É um formato que estamos bem habituados a enxergar.\n",
        "\n",
        "Vamos supor que você precise extrair apenas os nomes das colunas do seu *DataFrame* - basta executar: df.colunms"
      ]
    },
    {
      "cell_type": "code",
      "metadata": {
        "id": "8pHWD2yEwun0",
        "colab_type": "code",
        "colab": {
          "base_uri": "https://localhost:8080/",
          "height": 34
        },
        "outputId": "00ebf2c3-a644-4e10-adf0-f792f38d4e6b"
      },
      "source": [
        "# ver os nomes das colunas\n",
        "df.columns"
      ],
      "execution_count": 9,
      "outputs": [
        {
          "output_type": "execute_result",
          "data": {
            "text/plain": [
              "Index(['Date', 'Open', 'High', 'Low', 'Close', 'Adj Close', 'Volume'], dtype='object')"
            ]
          },
          "metadata": {
            "tags": []
          },
          "execution_count": 9
        }
      ]
    },
    {
      "cell_type": "markdown",
      "metadata": {
        "id": "GwuMplTsoc72",
        "colab_type": "text"
      },
      "source": [
        "Conhecer o tipo de variável que está representado em cada coluna é essencial. Por exemplo:\n",
        "\n",
        "* Quando temos uma coluna que trata de receita, despesa ou lucro, é desejável que lidemos com variáveis do tipo `float`.\n",
        "* Quando estamos lidando com anos (2017, 2018, 2019), iremos desejar trabalhar com variáveis do tipo `int`.\n",
        "* Quanto temos datas completas (`2019-12-30 07:37`), iremos desejar usar o formato `datetime`, para conseguir manipular adequadamente o *dataset*.\n",
        "\n",
        "Para conhecer os tipos de variáveis de cada coluna, use `df.dtypes`."
      ]
    },
    {
      "cell_type": "code",
      "metadata": {
        "id": "HjIKHiIypOud",
        "colab_type": "code",
        "colab": {
          "base_uri": "https://localhost:8080/",
          "height": 151
        },
        "outputId": "58cd7641-910e-4f9c-d407-36d77b1e5532"
      },
      "source": [
        "df.dtypes"
      ],
      "execution_count": 10,
      "outputs": [
        {
          "output_type": "execute_result",
          "data": {
            "text/plain": [
              "Date          object\n",
              "Open         float64\n",
              "High         float64\n",
              "Low          float64\n",
              "Close        float64\n",
              "Adj Close    float64\n",
              "Volume         int64\n",
              "dtype: object"
            ]
          },
          "metadata": {
            "tags": []
          },
          "execution_count": 10
        }
      ]
    },
    {
      "cell_type": "markdown",
      "metadata": {
        "id": "C0fYLIiKp4Xn",
        "colab_type": "text"
      },
      "source": [
        "Uma outra maneira de descobrir o tipo das variáveis e ainda ver os valores ausentes nas células, é por meio do método `df.info()`.\n",
        "\n",
        "Veja como ele consegue retornar essas informações de maneira tabular."
      ]
    },
    {
      "cell_type": "code",
      "metadata": {
        "id": "Ty0cRNRDpWLn",
        "colab_type": "code",
        "colab": {
          "base_uri": "https://localhost:8080/",
          "height": 252
        },
        "outputId": "b03d327d-8d7d-4d50-f97e-7ad40b58d75b"
      },
      "source": [
        "df.info()"
      ],
      "execution_count": 11,
      "outputs": [
        {
          "output_type": "stream",
          "text": [
            "<class 'pandas.core.frame.DataFrame'>\n",
            "RangeIndex: 254 entries, 0 to 253\n",
            "Data columns (total 7 columns):\n",
            " #   Column     Non-Null Count  Dtype  \n",
            "---  ------     --------------  -----  \n",
            " 0   Date       254 non-null    object \n",
            " 1   Open       254 non-null    float64\n",
            " 2   High       254 non-null    float64\n",
            " 3   Low        254 non-null    float64\n",
            " 4   Close      254 non-null    float64\n",
            " 5   Adj Close  254 non-null    float64\n",
            " 6   Volume     254 non-null    int64  \n",
            "dtypes: float64(5), int64(1), object(1)\n",
            "memory usage: 14.0+ KB\n"
          ],
          "name": "stdout"
        }
      ]
    },
    {
      "cell_type": "markdown",
      "metadata": {
        "id": "6gqXaGSfwucC",
        "colab_type": "text"
      },
      "source": [
        "### Selecionando colunas\n",
        "\n",
        "Há diversas maneiras de selecionar um sub-conjunto de dados em uma estrutura *DataFrame*.\n",
        "\n",
        "Na maioria dos casos, o que queremos fazer é selecionar apenas uma coluna de todo o *DataFrame*.\n",
        "\n",
        "Para selecionar uma variável, você deve colocar o nome da coluna entre colchetes, referenciando a variável onde os seus dados foram importados."
      ]
    },
    {
      "cell_type": "code",
      "metadata": {
        "id": "zkorkp4_wuRf",
        "colab_type": "code",
        "colab": {
          "base_uri": "https://localhost:8080/",
          "height": 218
        },
        "outputId": "f0ab73ac-a8bd-44db-b959-7eff48a4e6e6"
      },
      "source": [
        "# selecionar a variável (coluna) \"High\" da nossa variável df\n",
        "df[\"High\"]"
      ],
      "execution_count": 12,
      "outputs": [
        {
          "output_type": "execute_result",
          "data": {
            "text/plain": [
              "0       97.464996\n",
              "1       98.150002\n",
              "2       97.879997\n",
              "3       99.599998\n",
              "4      104.489998\n",
              "          ...    \n",
              "249    253.000000\n",
              "250    250.936996\n",
              "251    271.350006\n",
              "252    269.750000\n",
              "253    265.320007\n",
              "Name: High, Length: 254, dtype: float64"
            ]
          },
          "metadata": {
            "tags": []
          },
          "execution_count": 12
        }
      ]
    },
    {
      "cell_type": "markdown",
      "metadata": {
        "id": "yBmCSgY5riu7",
        "colab_type": "text"
      },
      "source": [
        "Caso o nome das coluna não contenha espaços em branco e caracteres especiais, você consegue selecionar ela de outra maneira (muito mais prática, na minha opinião).\n",
        "\n",
        "No lugar de `df[\"High\"]` você pode usar `df.High`, que terá o mesmo efeito."
      ]
    },
    {
      "cell_type": "code",
      "metadata": {
        "id": "tnh8IkUtr9S6",
        "colab_type": "code",
        "colab": {
          "base_uri": "https://localhost:8080/",
          "height": 218
        },
        "outputId": "1f6120d4-ff58-4f30-a5a9-182abb7fe67f"
      },
      "source": [
        "# selecionar a variável (coluna) \"High\" da nossa variável df\n",
        "df.High\n"
      ],
      "execution_count": 14,
      "outputs": [
        {
          "output_type": "execute_result",
          "data": {
            "text/plain": [
              "0       97.464996\n",
              "1       98.150002\n",
              "2       97.879997\n",
              "3       99.599998\n",
              "4      104.489998\n",
              "          ...    \n",
              "249    253.000000\n",
              "250    250.936996\n",
              "251    271.350006\n",
              "252    269.750000\n",
              "253    265.320007\n",
              "Name: High, Length: 254, dtype: float64"
            ]
          },
          "metadata": {
            "tags": []
          },
          "execution_count": 14
        }
      ]
    },
    {
      "cell_type": "markdown",
      "metadata": {
        "id": "rro80XstwuFi",
        "colab_type": "text"
      },
      "source": [
        "### Calculando a média de uma coluna\n",
        "\n",
        "Quando executamos o código `df.High`, você viu acima que foi impressa apenas a coluna de valores `High`. Para encontrar a média desses valores, basta utilizar `df.High.mean()`."
      ]
    },
    {
      "cell_type": "code",
      "metadata": {
        "id": "drcpq2FXwt5w",
        "colab_type": "code",
        "colab": {
          "base_uri": "https://localhost:8080/",
          "height": 34
        },
        "outputId": "59047e0a-51da-4f0f-f845-f554a8044b54"
      },
      "source": [
        "# calcular a média da coluna \"High\"\n",
        "df[\"High\"].mean()"
      ],
      "execution_count": 15,
      "outputs": [
        {
          "output_type": "execute_result",
          "data": {
            "text/plain": [
              "122.04819692519683"
            ]
          },
          "metadata": {
            "tags": []
          },
          "execution_count": 15
        }
      ]
    },
    {
      "cell_type": "markdown",
      "metadata": {
        "id": "qlAqNkaOwtug",
        "colab_type": "text"
      },
      "source": [
        "Isso significa que a média dos valores da coluna `High` é `122.04819692519683`. Como vamos ver ao longo do curso, existem muitas outras medidas importantes."
      ]
    },
    {
      "cell_type": "markdown",
      "metadata": {
        "id": "QG_6v5yTnzqx",
        "colab_type": "text"
      },
      "source": [
        "## Trabalhando com datas (`datetime`)\n",
        "\n",
        "Quando você importar um arquivo que tenha datas, provavelmente o Pandas não irá reconhecer as mesmas de maneira automática.\n",
        "\n",
        "Quando você checou `df.info()`, viu que a coluna `Date` estava como `object`. No caso, ela é apenas texto (`string`) e não permite a extração de muita coisa útil.\n",
        "\n",
        "Vamos converter a coluna usando `pd.to_datetime` e informando qual o formato da nossa data."
      ]
    },
    {
      "cell_type": "code",
      "metadata": {
        "id": "SBoh5heIvYxg",
        "colab_type": "code",
        "colab": {
          "base_uri": "https://localhost:8080/",
          "height": 252
        },
        "outputId": "7ac2c749-832e-4fe3-d9e5-cec6f9216663"
      },
      "source": [
        "# antes\n",
        "df.info()"
      ],
      "execution_count": 16,
      "outputs": [
        {
          "output_type": "stream",
          "text": [
            "<class 'pandas.core.frame.DataFrame'>\n",
            "RangeIndex: 254 entries, 0 to 253\n",
            "Data columns (total 7 columns):\n",
            " #   Column     Non-Null Count  Dtype  \n",
            "---  ------     --------------  -----  \n",
            " 0   Date       254 non-null    object \n",
            " 1   Open       254 non-null    float64\n",
            " 2   High       254 non-null    float64\n",
            " 3   Low        254 non-null    float64\n",
            " 4   Close      254 non-null    float64\n",
            " 5   Adj Close  254 non-null    float64\n",
            " 6   Volume     254 non-null    int64  \n",
            "dtypes: float64(5), int64(1), object(1)\n",
            "memory usage: 14.0+ KB\n"
          ],
          "name": "stdout"
        }
      ]
    },
    {
      "cell_type": "code",
      "metadata": {
        "id": "90EfusqfvPtF",
        "colab_type": "code",
        "colab": {}
      },
      "source": [
        "# converter coluna Date em datetime\n",
        "df.Date = pd.to_datetime(df.Date, format = \"%Y-%m-%d\")"
      ],
      "execution_count": 22,
      "outputs": []
    },
    {
      "cell_type": "code",
      "metadata": {
        "id": "CIyF3LROvjhs",
        "colab_type": "code",
        "colab": {
          "base_uri": "https://localhost:8080/",
          "height": 218
        },
        "outputId": "84107bb2-85b4-4fa8-adac-51dff511fbed"
      },
      "source": [
        "# depois\n",
        "df.Date\n"
      ],
      "execution_count": 24,
      "outputs": [
        {
          "output_type": "execute_result",
          "data": {
            "text/plain": [
              "0     2019-07-22\n",
              "1     2019-07-23\n",
              "2     2019-07-24\n",
              "3     2019-07-25\n",
              "4     2019-07-26\n",
              "         ...    \n",
              "249   2020-07-16\n",
              "250   2020-07-17\n",
              "251   2020-07-20\n",
              "252   2020-07-21\n",
              "253   2020-07-22\n",
              "Name: Date, Length: 254, dtype: datetime64[ns]"
            ]
          },
          "metadata": {
            "tags": []
          },
          "execution_count": 24
        }
      ]
    },
    {
      "cell_type": "markdown",
      "metadata": {
        "id": "4ZY1LxSLvqEl",
        "colab_type": "text"
      },
      "source": [
        "Olhe como agora eu consigo acessar apenas os componentes de uma data, individualmente, usando `df.Date.dt`"
      ]
    },
    {
      "cell_type": "code",
      "metadata": {
        "id": "BWhWxO9jv2W3",
        "colab_type": "code",
        "colab": {
          "base_uri": "https://localhost:8080/",
          "height": 218
        },
        "outputId": "869e51db-8ea5-4376-804f-72a475d1c5c6"
      },
      "source": [
        "df.Date.dt.date"
      ],
      "execution_count": 25,
      "outputs": [
        {
          "output_type": "execute_result",
          "data": {
            "text/plain": [
              "0      2019-07-22\n",
              "1      2019-07-23\n",
              "2      2019-07-24\n",
              "3      2019-07-25\n",
              "4      2019-07-26\n",
              "          ...    \n",
              "249    2020-07-16\n",
              "250    2020-07-17\n",
              "251    2020-07-20\n",
              "252    2020-07-21\n",
              "253    2020-07-22\n",
              "Name: Date, Length: 254, dtype: object"
            ]
          },
          "metadata": {
            "tags": []
          },
          "execution_count": 25
        }
      ]
    },
    {
      "cell_type": "code",
      "metadata": {
        "id": "yPg-cHLUwJkT",
        "colab_type": "code",
        "colab": {
          "base_uri": "https://localhost:8080/",
          "height": 218
        },
        "outputId": "b40b5828-699d-42d2-e1fa-a00d7bbb8ba8"
      },
      "source": [
        "df.Date.dt.day"
      ],
      "execution_count": 26,
      "outputs": [
        {
          "output_type": "execute_result",
          "data": {
            "text/plain": [
              "0      22\n",
              "1      23\n",
              "2      24\n",
              "3      25\n",
              "4      26\n",
              "       ..\n",
              "249    16\n",
              "250    17\n",
              "251    20\n",
              "252    21\n",
              "253    22\n",
              "Name: Date, Length: 254, dtype: int64"
            ]
          },
          "metadata": {
            "tags": []
          },
          "execution_count": 26
        }
      ]
    },
    {
      "cell_type": "code",
      "metadata": {
        "id": "dKiwxM56wHAb",
        "colab_type": "code",
        "colab": {
          "base_uri": "https://localhost:8080/",
          "height": 218
        },
        "outputId": "00a59bb5-ee1e-4599-c3f3-f368ea2087a2"
      },
      "source": [
        "df.Date.dt.month"
      ],
      "execution_count": 28,
      "outputs": [
        {
          "output_type": "execute_result",
          "data": {
            "text/plain": [
              "0      7\n",
              "1      7\n",
              "2      7\n",
              "3      7\n",
              "4      7\n",
              "      ..\n",
              "249    7\n",
              "250    7\n",
              "251    7\n",
              "252    7\n",
              "253    7\n",
              "Name: Date, Length: 254, dtype: int64"
            ]
          },
          "metadata": {
            "tags": []
          },
          "execution_count": 28
        }
      ]
    },
    {
      "cell_type": "code",
      "metadata": {
        "id": "zBLWPqcBfzKX",
        "colab_type": "code",
        "colab": {}
      },
      "source": [
        ""
      ],
      "execution_count": null,
      "outputs": []
    },
    {
      "cell_type": "markdown",
      "metadata": {
        "id": "dHzx3aWXvIG2",
        "colab_type": "text"
      },
      "source": [
        "\n",
        "No entanto, há vários formatos que um usuário pode lançar como sendo datas. Você pode encontrar exemplos como:\n",
        "\n",
        "* 31/06/15\n",
        "* 31/06/2015\n",
        "* 31-6-15\n",
        "* 2015-6-31\n",
        "* 31 de junho de 2015\n",
        "\n",
        "Para lidar com tudo isso, você vai ter que entender a documentação. Seguem dois links que serão úteis para isso:\n",
        "\n",
        "* https://pandas.pydata.org/docs/reference/api/pandas.to_datetime.html?highlight=to_datetime#pandas.to_datetime\n",
        "* https://docs.python.org/3/library/datetime.html#strftime-and-strptime-behavior"
      ]
    }
  ]
}