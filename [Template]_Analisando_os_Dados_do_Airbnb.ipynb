{
  "nbformat": 4,
  "nbformat_minor": 0,
  "metadata": {
    "colab": {
      "name": "[Template] Analisando os Dados do Airbnb.ipynb",
      "provenance": [],
      "collapsed_sections": [],
      "toc_visible": true,
      "include_colab_link": true
    },
    "kernelspec": {
      "name": "python3",
      "display_name": "Python 3"
    }
  },
  "cells": [
    {
      "cell_type": "markdown",
      "metadata": {
        "id": "view-in-github",
        "colab_type": "text"
      },
      "source": [
        "<a href=\"https://colab.research.google.com/github/JoaoVitorMarques14/JoaoMarques/blob/master/%5BTemplate%5D_Analisando_os_Dados_do_Airbnb.ipynb\" target=\"_parent\"><img src=\"https://colab.research.google.com/assets/colab-badge.svg\" alt=\"Open In Colab\"/></a>"
      ]
    },
    {
      "cell_type": "markdown",
      "metadata": {
        "id": "kLI0gJtzDGuQ",
        "colab_type": "text"
      },
      "source": [
        "<img alt=\"Colaboratory logo\" width=\"15%\" src=\"https://raw.githubusercontent.com/carlosfab/escola-data-science/master/img/novo_logo_bg_claro.png\">\n",
        "\n",
        "#### **Data Science na Prática 2.0**\n",
        "*by [sigmoidal.ai](https://sigmoidal.ai)*\n",
        "\n",
        "---\n",
        "\n",
        "# Analizing San Francisco rental market through Airbnb data\n",
        "\n",
        "[Airbnb](https://www.airbnb.com.br/) is considered **one of the largest hotel companies in the world** and **not owning a single hotel.** \n",
        "\n",
        "This website connects hosts that are willing to rent an apartment or room to travelers. This way, Airbnb offers an interesting alternative for accommodation in Big cities.\n",
        "\n",
        "By the end of 2018, this startup company that was founded only 10 years before, had already **hosted more than 300 million people** around the world and really challenging the traditional hotel chains.\n",
        "\n",
        "An Airbnb great initiative is to make the data available for some of the world's biggest cities. It is possible obtain real data from the website [Inside Airbnb](http://insideairbnb.com/get-the-data.html) to develop data science projects and solutions. \n",
        "\n",
        "The purpose of this report is to ....\n",
        "\n",
        "<center><img alt=\"Analisando Airbnb\" width=\"40%\" src=\"https://www.area360.com.au/wp-content/uploads/2017/09/airbnb-logo.jpg\"></center>\n",
        "\n"
      ]
    },
    {
      "cell_type": "markdown",
      "metadata": {
        "id": "0zxQHhIUDF_2",
        "colab_type": "text"
      },
      "source": [
        "## Obtaining data\n",
        "\n",
        "All the data used in this report was taken from [Inside Airbnb](http://insideairbnb.com/get-the-data.html).\n",
        "\n",
        "For this analysis it was used the following archive:\n",
        "* `listings.csv` - *Summary information and metrics for listings in San Francisco (good for visualisations).*"
      ]
    },
    {
      "cell_type": "code",
      "metadata": {
        "id": "Vhp2wMPgJ6zX",
        "colab_type": "code",
        "colab": {}
      },
      "source": [
        "# importing the libraries\n",
        "import pandas as pd\n",
        "import matplotlib.pyplot as plt\n",
        "import seaborn as sns\n",
        "\n",
        "%matplotlib inline\n"
      ],
      "execution_count": 0,
      "outputs": []
    },
    {
      "cell_type": "code",
      "metadata": {
        "id": "bb31ZiC10--6",
        "colab_type": "code",
        "colab": {}
      },
      "source": [
        "#Importing the archive listings.csv to a DataFrame\n",
        "df = pd.read_csv(\"http://data.insideairbnb.com/united-states/ca/san-francisco/2020-06-08/visualisations/listings.csv\")\n"
      ],
      "execution_count": 0,
      "outputs": []
    },
    {
      "cell_type": "markdown",
      "metadata": {
        "id": "qb5By2nIMS6m",
        "colab_type": "text"
      },
      "source": [
        "## Data Analysis\n"
      ]
    },
    {
      "cell_type": "markdown",
      "metadata": {
        "id": "RYgvuebKNg8-",
        "colab_type": "text"
      },
      "source": [
        "**Dicionário das variáveis**\n",
        "\n",
        "* `id` - Property id\n",
        "* `name` - Property name\n",
        "* `host_id` - Property owner's id\n",
        "* `host_name` - Host name\n",
        "* `neighbourhood_group` - This column has no value\n",
        "* `neighbourhood` - Neighbourhood name\n",
        "* `latitude` - Property latitude coordinate\n",
        "* `longitude` - Property longitude coordinate\n",
        "* `room_type` - Type of offered room\n",
        "* `price` - Rental price\n",
        "* `minimum_nights` - Minimum nights a guest can book\n",
        "* `number_of_reviews` - Number of reviews the property has\n",
        "* `last_review` - date of the last review\n",
        "* `reviews_per_month` - Number of reviews per month\n",
        "* `calculated_host_listings_count` - Number of property the host has\n",
        "* `availability_365` - Number of available days in 365 days\n",
        "\n",
        "\n",
        "Antes de iniciar qualquer análise, vamos verificar a cara do nosso *dataset*, analisando as 5 primeiras entradas.\n",
        "\n",
        "Before starting the analyses let's check the first 5 lines of our dataset. "
      ]
    },
    {
      "cell_type": "code",
      "metadata": {
        "id": "2iS_dae7YQtO",
        "colab_type": "code",
        "outputId": "614be41a-ed0d-4f3d-f831-66aa5eca227d",
        "colab": {
          "base_uri": "https://localhost:8080/",
          "height": 501
        }
      },
      "source": [
        "# Displaying the first 5 inputs\n",
        "df.head()\n"
      ],
      "execution_count": 4,
      "outputs": [
        {
          "output_type": "execute_result",
          "data": {
            "text/html": [
              "<div>\n",
              "<style scoped>\n",
              "    .dataframe tbody tr th:only-of-type {\n",
              "        vertical-align: middle;\n",
              "    }\n",
              "\n",
              "    .dataframe tbody tr th {\n",
              "        vertical-align: top;\n",
              "    }\n",
              "\n",
              "    .dataframe thead th {\n",
              "        text-align: right;\n",
              "    }\n",
              "</style>\n",
              "<table border=\"1\" class=\"dataframe\">\n",
              "  <thead>\n",
              "    <tr style=\"text-align: right;\">\n",
              "      <th></th>\n",
              "      <th>id</th>\n",
              "      <th>name</th>\n",
              "      <th>host_id</th>\n",
              "      <th>host_name</th>\n",
              "      <th>neighbourhood_group</th>\n",
              "      <th>neighbourhood</th>\n",
              "      <th>latitude</th>\n",
              "      <th>longitude</th>\n",
              "      <th>room_type</th>\n",
              "      <th>price</th>\n",
              "      <th>minimum_nights</th>\n",
              "      <th>number_of_reviews</th>\n",
              "      <th>last_review</th>\n",
              "      <th>reviews_per_month</th>\n",
              "      <th>calculated_host_listings_count</th>\n",
              "      <th>availability_365</th>\n",
              "    </tr>\n",
              "  </thead>\n",
              "  <tbody>\n",
              "    <tr>\n",
              "      <th>0</th>\n",
              "      <td>958</td>\n",
              "      <td>Bright, Modern Garden Unit - 1BR/1BTH</td>\n",
              "      <td>1169</td>\n",
              "      <td>Holly</td>\n",
              "      <td>NaN</td>\n",
              "      <td>Western Addition</td>\n",
              "      <td>37.76931</td>\n",
              "      <td>-122.43386</td>\n",
              "      <td>Entire home/apt</td>\n",
              "      <td>170</td>\n",
              "      <td>1</td>\n",
              "      <td>241</td>\n",
              "      <td>2020-03-28</td>\n",
              "      <td>1.82</td>\n",
              "      <td>1</td>\n",
              "      <td>143</td>\n",
              "    </tr>\n",
              "    <tr>\n",
              "      <th>1</th>\n",
              "      <td>5858</td>\n",
              "      <td>Creative Sanctuary</td>\n",
              "      <td>8904</td>\n",
              "      <td>Philip And Tania</td>\n",
              "      <td>NaN</td>\n",
              "      <td>Bernal Heights</td>\n",
              "      <td>37.74511</td>\n",
              "      <td>-122.42102</td>\n",
              "      <td>Entire home/apt</td>\n",
              "      <td>235</td>\n",
              "      <td>30</td>\n",
              "      <td>111</td>\n",
              "      <td>2017-08-06</td>\n",
              "      <td>0.82</td>\n",
              "      <td>1</td>\n",
              "      <td>0</td>\n",
              "    </tr>\n",
              "    <tr>\n",
              "      <th>2</th>\n",
              "      <td>7918</td>\n",
              "      <td>A Friendly Room - UCSF/USF - San Francisco</td>\n",
              "      <td>21994</td>\n",
              "      <td>Aaron</td>\n",
              "      <td>NaN</td>\n",
              "      <td>Haight Ashbury</td>\n",
              "      <td>37.76555</td>\n",
              "      <td>-122.45213</td>\n",
              "      <td>Private room</td>\n",
              "      <td>65</td>\n",
              "      <td>32</td>\n",
              "      <td>19</td>\n",
              "      <td>2020-03-06</td>\n",
              "      <td>0.14</td>\n",
              "      <td>9</td>\n",
              "      <td>365</td>\n",
              "    </tr>\n",
              "    <tr>\n",
              "      <th>3</th>\n",
              "      <td>8142</td>\n",
              "      <td>Friendly Room Apt. Style -UCSF/USF - San Franc...</td>\n",
              "      <td>21994</td>\n",
              "      <td>Aaron</td>\n",
              "      <td>NaN</td>\n",
              "      <td>Haight Ashbury</td>\n",
              "      <td>37.76555</td>\n",
              "      <td>-122.45213</td>\n",
              "      <td>Private room</td>\n",
              "      <td>65</td>\n",
              "      <td>32</td>\n",
              "      <td>8</td>\n",
              "      <td>2018-09-12</td>\n",
              "      <td>0.11</td>\n",
              "      <td>9</td>\n",
              "      <td>365</td>\n",
              "    </tr>\n",
              "    <tr>\n",
              "      <th>4</th>\n",
              "      <td>8339</td>\n",
              "      <td>Historic Alamo Square Victorian</td>\n",
              "      <td>24215</td>\n",
              "      <td>Rosy</td>\n",
              "      <td>NaN</td>\n",
              "      <td>Western Addition</td>\n",
              "      <td>37.77525</td>\n",
              "      <td>-122.43637</td>\n",
              "      <td>Entire home/apt</td>\n",
              "      <td>726</td>\n",
              "      <td>5</td>\n",
              "      <td>28</td>\n",
              "      <td>2019-06-28</td>\n",
              "      <td>0.21</td>\n",
              "      <td>2</td>\n",
              "      <td>365</td>\n",
              "    </tr>\n",
              "  </tbody>\n",
              "</table>\n",
              "</div>"
            ],
            "text/plain": [
              "     id  ... availability_365\n",
              "0   958  ...              143\n",
              "1  5858  ...                0\n",
              "2  7918  ...              365\n",
              "3  8142  ...              365\n",
              "4  8339  ...              365\n",
              "\n",
              "[5 rows x 16 columns]"
            ]
          },
          "metadata": {
            "tags": []
          },
          "execution_count": 4
        }
      ]
    },
    {
      "cell_type": "markdown",
      "metadata": {
        "id": "6-B_qtEaYEd-",
        "colab_type": "text"
      },
      "source": [
        "### **Knowing the size of our dataset.**\n",
        "How many variables and inputs does my dataset have? What kinds of variables are in the dataset? "
      ]
    },
    {
      "cell_type": "code",
      "metadata": {
        "id": "TFRK0tniLV-G",
        "colab_type": "code",
        "outputId": "76e824ea-03e9-4ee3-ba7d-cb5f3bb27c44",
        "colab": {
          "base_uri": "https://localhost:8080/",
          "height": 370
        }
      },
      "source": [
        "# Identifying the dataset size\n",
        "print(\"Inputs:\\t {}\".format(df.shape[0]))\n",
        "print(\"Variables:\\t {}\".format(df.shape[1]))\n",
        "print('\\n')\n",
        "# Visualizing the types of variables in the dataset\n",
        "print(df.dtypes)\n"
      ],
      "execution_count": 5,
      "outputs": [
        {
          "output_type": "stream",
          "text": [
            "Inputs:\t 7814\n",
            "Variables:\t 16\n",
            "\n",
            "\n",
            "id                                  int64\n",
            "name                               object\n",
            "host_id                             int64\n",
            "host_name                          object\n",
            "neighbourhood_group               float64\n",
            "neighbourhood                      object\n",
            "latitude                          float64\n",
            "longitude                         float64\n",
            "room_type                          object\n",
            "price                               int64\n",
            "minimum_nights                      int64\n",
            "number_of_reviews                   int64\n",
            "last_review                        object\n",
            "reviews_per_month                 float64\n",
            "calculated_host_listings_count      int64\n",
            "availability_365                    int64\n",
            "dtype: object\n"
          ],
          "name": "stdout"
        }
      ]
    },
    {
      "cell_type": "markdown",
      "metadata": {
        "id": "yz1urSUGW9iE",
        "colab_type": "text"
      },
      "source": [
        "### **How complete is the dataset?**\n",
        "The next step is to see how many null values the dataset presents. The dataset quality is directly related to the number of null values. It's important to understand how significant the null values are in comparison to the total number of inputs. \n",
        "* It is possible to see that the whole `neighbourhood_group` column presents a 100% of its values null.\n",
        "* The variables `reviews_per_month` and `last_review` present around 23% of null values.  "
      ]
    },
    {
      "cell_type": "code",
      "metadata": {
        "id": "plk2FjbCXOqP",
        "colab_type": "code",
        "outputId": "82b92e3b-4711-4119-fd6d-772581ab1cf2",
        "colab": {
          "base_uri": "https://localhost:8080/",
          "height": 302
        }
      },
      "source": [
        "# Ordering variables with null values in an ascending way\n",
        "(df.isnull().sum()/df.shape[0]).sort_values(ascending=False)\n"
      ],
      "execution_count": 17,
      "outputs": [
        {
          "output_type": "execute_result",
          "data": {
            "text/plain": [
              "neighbourhood_group               1.000000\n",
              "reviews_per_month                 0.234451\n",
              "last_review                       0.234451\n",
              "availability_365                  0.000000\n",
              "calculated_host_listings_count    0.000000\n",
              "number_of_reviews                 0.000000\n",
              "minimum_nights                    0.000000\n",
              "price                             0.000000\n",
              "room_type                         0.000000\n",
              "longitude                         0.000000\n",
              "latitude                          0.000000\n",
              "neighbourhood                     0.000000\n",
              "host_name                         0.000000\n",
              "host_id                           0.000000\n",
              "name                              0.000000\n",
              "id                                0.000000\n",
              "dtype: float64"
            ]
          },
          "metadata": {
            "tags": []
          },
          "execution_count": 17
        }
      ]
    },
    {
      "cell_type": "markdown",
      "metadata": {
        "id": "iHXvvHIxaoNc",
        "colab_type": "text"
      },
      "source": [
        "### **Analyzing the variables distribution** \n",
        "Histograms are a great way to display the distribution of a variable. Let's see how the variables in this analysis behave."
      ]
    },
    {
      "cell_type": "code",
      "metadata": {
        "id": "q2wWSfeRbmBo",
        "colab_type": "code",
        "colab": {
          "base_uri": "https://localhost:8080/",
          "height": 607
        },
        "outputId": "2de8d7fb-f5a0-4b1d-aae7-c49d38007507"
      },
      "source": [
        "# Plotting the histogram of the variables\n",
        "\n",
        "df.hist(bins=15, figsize=(15,10));"
      ],
      "execution_count": 23,
      "outputs": [
        {
          "output_type": "display_data",
          "data": {
            "image/png": "[encoded data removed]",
            "text/plain": [
              "<Figure size 1080x720 with 12 Axes>"
            ]
          },
          "metadata": {
            "tags": [],
            "needs_background": "light"
          }
        }
      ]
    },
    {
      "cell_type": "markdown",
      "metadata": {
        "id": "7x4aw1j5wNmn",
        "colab_type": "text"
      },
      "source": [
        "### **Are there outliers?**\n",
        "Based on the histogram analysis above, it is possible to state that there are certainly outliers. These values distort the distribution and do not represent the values intended to be analyzed in this report. \n",
        "There are two ways to prove the existence of outliers: \n",
        "\n",
        "* Statistical summary through the `describe()` method.\n",
        "* Plotting the `boxplots` for the variable."
      ]
    },
    {
      "cell_type": "code",
      "metadata": {
        "id": "ff-8gUahLk-C",
        "colab_type": "code",
        "colab": {
          "base_uri": "https://localhost:8080/",
          "height": 284
        },
        "outputId": "d40f8834-2bb8-4d92-e8bb-5adb617c5d79"
      },
      "source": [
        "# Checking the statistical summary of the variables\n",
        "\n",
        "df[['price', 'minimum_nights', 'number_of_reviews', 'reviews_per_month',\n",
        "    'calculated_host_listings_count', 'availability_365']].describe()\n"
      ],
      "execution_count": 25,
      "outputs": [
        {
          "output_type": "execute_result",
          "data": {
            "text/html": [
              "<div>\n",
              "<style scoped>\n",
              "    .dataframe tbody tr th:only-of-type {\n",
              "        vertical-align: middle;\n",
              "    }\n",
              "\n",
              "    .dataframe tbody tr th {\n",
              "        vertical-align: top;\n",
              "    }\n",
              "\n",
              "    .dataframe thead th {\n",
              "        text-align: right;\n",
              "    }\n",
              "</style>\n",
              "<table border=\"1\" class=\"dataframe\">\n",
              "  <thead>\n",
              "    <tr style=\"text-align: right;\">\n",
              "      <th></th>\n",
              "      <th>price</th>\n",
              "      <th>minimum_nights</th>\n",
              "      <th>number_of_reviews</th>\n",
              "      <th>reviews_per_month</th>\n",
              "      <th>calculated_host_listings_count</th>\n",
              "      <th>availability_365</th>\n",
              "    </tr>\n",
              "  </thead>\n",
              "  <tbody>\n",
              "    <tr>\n",
              "      <th>count</th>\n",
              "      <td>7814.000000</td>\n",
              "      <td>7.814000e+03</td>\n",
              "      <td>7814.000000</td>\n",
              "      <td>5982.000000</td>\n",
              "      <td>7814.000000</td>\n",
              "      <td>7814.000000</td>\n",
              "    </tr>\n",
              "    <tr>\n",
              "      <th>mean</th>\n",
              "      <td>234.282186</td>\n",
              "      <td>1.281551e+04</td>\n",
              "      <td>44.284233</td>\n",
              "      <td>1.437300</td>\n",
              "      <td>21.634502</td>\n",
              "      <td>169.643205</td>\n",
              "    </tr>\n",
              "    <tr>\n",
              "      <th>std</th>\n",
              "      <td>622.259833</td>\n",
              "      <td>1.131262e+06</td>\n",
              "      <td>81.380247</td>\n",
              "      <td>1.766009</td>\n",
              "      <td>47.908904</td>\n",
              "      <td>138.870365</td>\n",
              "    </tr>\n",
              "    <tr>\n",
              "      <th>min</th>\n",
              "      <td>0.000000</td>\n",
              "      <td>1.000000e+00</td>\n",
              "      <td>0.000000</td>\n",
              "      <td>0.010000</td>\n",
              "      <td>1.000000</td>\n",
              "      <td>0.000000</td>\n",
              "    </tr>\n",
              "    <tr>\n",
              "      <th>25%</th>\n",
              "      <td>95.000000</td>\n",
              "      <td>2.000000e+00</td>\n",
              "      <td>1.000000</td>\n",
              "      <td>0.230000</td>\n",
              "      <td>1.000000</td>\n",
              "      <td>23.000000</td>\n",
              "    </tr>\n",
              "    <tr>\n",
              "      <th>50%</th>\n",
              "      <td>148.000000</td>\n",
              "      <td>7.000000e+00</td>\n",
              "      <td>8.000000</td>\n",
              "      <td>0.710000</td>\n",
              "      <td>2.000000</td>\n",
              "      <td>159.500000</td>\n",
              "    </tr>\n",
              "    <tr>\n",
              "      <th>75%</th>\n",
              "      <td>229.000000</td>\n",
              "      <td>3.000000e+01</td>\n",
              "      <td>50.000000</td>\n",
              "      <td>2.050000</td>\n",
              "      <td>12.000000</td>\n",
              "      <td>321.750000</td>\n",
              "    </tr>\n",
              "    <tr>\n",
              "      <th>max</th>\n",
              "      <td>25000.000000</td>\n",
              "      <td>1.000000e+08</td>\n",
              "      <td>821.000000</td>\n",
              "      <td>26.390000</td>\n",
              "      <td>208.000000</td>\n",
              "      <td>365.000000</td>\n",
              "    </tr>\n",
              "  </tbody>\n",
              "</table>\n",
              "</div>"
            ],
            "text/plain": [
              "              price  ...  availability_365\n",
              "count   7814.000000  ...       7814.000000\n",
              "mean     234.282186  ...        169.643205\n",
              "std      622.259833  ...        138.870365\n",
              "min        0.000000  ...          0.000000\n",
              "25%       95.000000  ...         23.000000\n",
              "50%      148.000000  ...        159.500000\n",
              "75%      229.000000  ...        321.750000\n",
              "max    25000.000000  ...        365.000000\n",
              "\n",
              "[8 rows x 6 columns]"
            ]
          },
          "metadata": {
            "tags": []
          },
          "execution_count": 25
        }
      ]
    },
    {
      "cell_type": "markdown",
      "metadata": {
        "id": "G6KD1UofTwMz",
        "colab_type": "text"
      },
      "source": [
        "Here are some conclusions from this brief analysis:\n",
        "* 75% of the variable `price`is below 229, its maximum value is 25000 though.\n",
        "* The maximum value of `minimum_nights`is above 365 days in a year."
      ]
    },
    {
      "cell_type": "markdown",
      "metadata": {
        "id": "9sgpu4AuXjXB",
        "colab_type": "text"
      },
      "source": [
        "#### Boxplot for minimum_nights\n"
      ]
    },
    {
      "cell_type": "code",
      "metadata": {
        "id": "KeFfkK2IYSDY",
        "colab_type": "code",
        "colab": {
          "base_uri": "https://localhost:8080/",
          "height": 274
        },
        "outputId": "ae52aaa4-7ff4-4b54-dd8e-a143314a47b9"
      },
      "source": [
        "# minimum_nights\n",
        "df.minimum_nights.plot(kind=\"box\", vert = False, figsize=(15,3))\n",
        "plt.show()\n",
        "\n",
        "# Checking the number of values above 30 days for minimum_nights\n",
        "\n",
        "print(\"minimum_nights: number of values above 30 days:\")\n",
        "print(\"{} inputs\".format(len(df[df.minimum_nights>30])))\n",
        "print(\"{:.3f}%\".format((len(df[df.minimum_nights>30])/df.shape[0])*100))"
      ],
      "execution_count": 30,
      "outputs": [
        {
          "output_type": "display_data",
          "data": {
            "image/png": "[encoded data removed]",
            "text/plain": [
              "<Figure size 1080x216 with 1 Axes>"
            ]
          },
          "metadata": {
            "tags": [],
            "needs_background": "light"
          }
        },
        {
          "output_type": "stream",
          "text": [
            "minimum_nights: number of values above 30 days:\n",
            "332 inputs\n",
            "4.249%\n"
          ],
          "name": "stdout"
        }
      ]
    },
    {
      "cell_type": "markdown",
      "metadata": {
        "id": "8f8pWi11a_fK",
        "colab_type": "text"
      },
      "source": [
        "This simple analysis shows us that there is a single value ruining our analysis. It needs removing.\n",
        "\n",
        "\n",
        "\n",
        "\n"
      ]
    },
    {
      "cell_type": "markdown",
      "metadata": {
        "id": "7W5_rG38eI4G",
        "colab_type": "text"
      },
      "source": [
        "#### Boxplot for price\n",
        "Let's do the same procedure for the variable `price`."
      ]
    },
    {
      "cell_type": "code",
      "metadata": {
        "id": "-xRE504zeW8c",
        "colab_type": "code",
        "colab": {
          "base_uri": "https://localhost:8080/",
          "height": 262
        },
        "outputId": "254c37bb-614c-4129-db22-049a0ed0aae3"
      },
      "source": [
        "# price\n",
        "df.price.plot(kind = \"box\", vert = False, figsize = (15,3))\n",
        "plt.show()\n",
        "\n",
        "print(\"price: number of values above 1000:\")\n",
        "print(\"{} inputs\".format(len(df[df.price>1000]) ))\n",
        "print(\"{:.3f}%\".format((len(df[df.price > 1000]) / df.shape[0])*100))"
      ],
      "execution_count": 39,
      "outputs": [
        {
          "output_type": "display_data",
          "data": {
            "image/png": "[encoded data removed]",
            "text/plain": [
              "<Figure size 1080x216 with 1 Axes>"
            ]
          },
          "metadata": {
            "tags": [],
            "needs_background": "light"
          }
        },
        {
          "output_type": "stream",
          "text": [
            "price: number of values above 1000:\n",
            "108 inputs\n",
            "1.382%\n"
          ],
          "name": "stdout"
        }
      ]
    },
    {
      "cell_type": "markdown",
      "metadata": {
        "id": "uVt0LbcMlpbm",
        "colab_type": "text"
      },
      "source": [
        "#### Histogram without outliers\n",
        "The following procedure is going to remove the outliers from our analysis and then plotting updated histograms. "
      ]
    },
    {
      "cell_type": "code",
      "metadata": {
        "id": "VBZLkGddmPjw",
        "colab_type": "code",
        "colab": {
          "base_uri": "https://localhost:8080/",
          "height": 607
        },
        "outputId": "b0283525-d609-44b8-8c9c-2a51087fb2f2"
      },
      "source": [
        "# removing the outliers\n",
        "df_clean = df.copy()\n",
        "df_clean.drop(df_clean[df_clean.price > 1000].index,  inplace = True)\n",
        "df_clean.drop(df_clean[df_clean.minimum_nights > 30].index, inplace = True)\n",
        "\n",
        "# removing the group 'neighbourhood_group' once it has no values\n",
        "\n",
        "df_clean.drop(\"neighbourhood_group\", axis = 1, inplace = True)\n",
        "\n",
        "#plotting the histograms\n",
        "\n",
        "df_clean.hist(bins=15, figsize = (15,10));"
      ],
      "execution_count": 50,
      "outputs": [
        {
          "output_type": "display_data",
          "data": {
            "image/png": "[encoded data removed]",
            "text/plain": [
              "<Figure size 1080x720 with 12 Axes>"
            ]
          },
          "metadata": {
            "tags": [],
            "needs_background": "light"
          }
        }
      ]
    },
    {
      "cell_type": "markdown",
      "metadata": {
        "id": "IXn2oIo5qx-w",
        "colab_type": "text"
      },
      "source": [
        "### **Variables correlation**\n",
        "**Correlation** or **dependence** is a statistical relationship between two variables. Our objective here is to find it in our dataset.\n",
        "\n",
        "This relationship can be measured, and the purpose of the correlation coefficient is to establish how strong is this relationship. There two only to identify the existent correlations in these variables:\n",
        "* Generate a correlation matrix.\n",
        "* Create a heatmap from this matrix by using `seaborn`library."
      ]
    },
    {
      "cell_type": "code",
      "metadata": {
        "id": "x2ayzBajqxyd",
        "colab_type": "code",
        "colab": {
          "base_uri": "https://localhost:8080/",
          "height": 225
        },
        "outputId": "c2082c8a-1454-4a9f-8210-59cc64a970e8"
      },
      "source": [
        "# Creating a correlation matrix\n",
        "correlation = df_clean[['price', 'minimum_nights', 'number_of_reviews', 'reviews_per_month',\n",
        "    'calculated_host_listings_count', 'availability_365' ]].corr()\n",
        "\n",
        "# Displaying the correlation matrix\n",
        "display(correlation)\n"
      ],
      "execution_count": 52,
      "outputs": [
        {
          "output_type": "display_data",
          "data": {
            "text/html": [
              "<div>\n",
              "<style scoped>\n",
              "    .dataframe tbody tr th:only-of-type {\n",
              "        vertical-align: middle;\n",
              "    }\n",
              "\n",
              "    .dataframe tbody tr th {\n",
              "        vertical-align: top;\n",
              "    }\n",
              "\n",
              "    .dataframe thead th {\n",
              "        text-align: right;\n",
              "    }\n",
              "</style>\n",
              "<table border=\"1\" class=\"dataframe\">\n",
              "  <thead>\n",
              "    <tr style=\"text-align: right;\">\n",
              "      <th></th>\n",
              "      <th>price</th>\n",
              "      <th>minimum_nights</th>\n",
              "      <th>number_of_reviews</th>\n",
              "      <th>reviews_per_month</th>\n",
              "      <th>calculated_host_listings_count</th>\n",
              "      <th>availability_365</th>\n",
              "    </tr>\n",
              "  </thead>\n",
              "  <tbody>\n",
              "    <tr>\n",
              "      <th>price</th>\n",
              "      <td>1.000000</td>\n",
              "      <td>-0.201221</td>\n",
              "      <td>-0.104831</td>\n",
              "      <td>-0.125979</td>\n",
              "      <td>-0.079144</td>\n",
              "      <td>-0.082081</td>\n",
              "    </tr>\n",
              "    <tr>\n",
              "      <th>minimum_nights</th>\n",
              "      <td>-0.201221</td>\n",
              "      <td>1.000000</td>\n",
              "      <td>-0.338966</td>\n",
              "      <td>-0.396208</td>\n",
              "      <td>0.296127</td>\n",
              "      <td>0.328184</td>\n",
              "    </tr>\n",
              "    <tr>\n",
              "      <th>number_of_reviews</th>\n",
              "      <td>-0.104831</td>\n",
              "      <td>-0.338966</td>\n",
              "      <td>1.000000</td>\n",
              "      <td>0.751819</td>\n",
              "      <td>-0.205101</td>\n",
              "      <td>0.012750</td>\n",
              "    </tr>\n",
              "    <tr>\n",
              "      <th>reviews_per_month</th>\n",
              "      <td>-0.125979</td>\n",
              "      <td>-0.396208</td>\n",
              "      <td>0.751819</td>\n",
              "      <td>1.000000</td>\n",
              "      <td>-0.186060</td>\n",
              "      <td>-0.018847</td>\n",
              "    </tr>\n",
              "    <tr>\n",
              "      <th>calculated_host_listings_count</th>\n",
              "      <td>-0.079144</td>\n",
              "      <td>0.296127</td>\n",
              "      <td>-0.205101</td>\n",
              "      <td>-0.186060</td>\n",
              "      <td>1.000000</td>\n",
              "      <td>0.029482</td>\n",
              "    </tr>\n",
              "    <tr>\n",
              "      <th>availability_365</th>\n",
              "      <td>-0.082081</td>\n",
              "      <td>0.328184</td>\n",
              "      <td>0.012750</td>\n",
              "      <td>-0.018847</td>\n",
              "      <td>0.029482</td>\n",
              "      <td>1.000000</td>\n",
              "    </tr>\n",
              "  </tbody>\n",
              "</table>\n",
              "</div>"
            ],
            "text/plain": [
              "                                   price  ...  availability_365\n",
              "price                           1.000000  ...         -0.082081\n",
              "minimum_nights                 -0.201221  ...          0.328184\n",
              "number_of_reviews              -0.104831  ...          0.012750\n",
              "reviews_per_month              -0.125979  ...         -0.018847\n",
              "calculated_host_listings_count -0.079144  ...          0.029482\n",
              "availability_365               -0.082081  ...          1.000000\n",
              "\n",
              "[6 rows x 6 columns]"
            ]
          },
          "metadata": {
            "tags": []
          }
        }
      ]
    },
    {
      "cell_type": "code",
      "metadata": {
        "id": "91UujDr6ueqE",
        "colab_type": "code",
        "colab": {
          "base_uri": "https://localhost:8080/",
          "height": 411
        },
        "outputId": "d4be5dda-dac7-46ae-ed9d-f49ec7fe60c7"
      },
      "source": [
        "# Creating a heatmap from the correlation matrix\n",
        "sns.heatmap(correlation, cmap=\"RdBu\", square=True, annot=True);\n"
      ],
      "execution_count": 54,
      "outputs": [
        {
          "output_type": "display_data",
          "data": {
            "image/png": "[encoded data removed]",
            "text/plain": [
              "<Figure size 432x288 with 2 Axes>"
            ]
          },
          "metadata": {
            "tags": [],
            "needs_background": "light"
          }
        }
      ]
    },
    {
      "cell_type": "markdown",
      "metadata": {
        "id": "7b6RMWpuHKN-",
        "colab_type": "text"
      },
      "source": [
        "### **Q5. Qual o tipo de imóvel mais alugado no Airbnb?**"
      ]
    },
    {
      "cell_type": "code",
      "metadata": {
        "id": "ueLPNWvPHgfB",
        "colab_type": "code",
        "colab": {}
      },
      "source": [
        "# mostrar a quantidade de cada tipo de imóvel disponível\n"
      ],
      "execution_count": 0,
      "outputs": []
    },
    {
      "cell_type": "code",
      "metadata": {
        "id": "EvwoO-XAHhIm",
        "colab_type": "code",
        "colab": {}
      },
      "source": [
        "# mostrar a porcentagem de cada tipo de imóvel disponível\n"
      ],
      "execution_count": 0,
      "outputs": []
    },
    {
      "cell_type": "markdown",
      "metadata": {
        "id": "MFa5NbnLJMcd",
        "colab_type": "text"
      },
      "source": [
        "### **Q6. Qual a localidade mais cara do dataset?**\n",
        "\n"
      ]
    },
    {
      "cell_type": "code",
      "metadata": {
        "id": "MD_xa143JZpi",
        "colab_type": "code",
        "colab": {}
      },
      "source": [
        "# ver preços por bairros, na média\n"
      ],
      "execution_count": 0,
      "outputs": []
    },
    {
      "cell_type": "code",
      "metadata": {
        "id": "UxVJqJ_3W59I",
        "colab_type": "code",
        "colab": {}
      },
      "source": [
        "# plotar os imóveis pela latitude-longitude\n"
      ],
      "execution_count": 0,
      "outputs": []
    },
    {
      "cell_type": "markdown",
      "metadata": {
        "id": "vTneAMRUYvr1",
        "colab_type": "text"
      },
      "source": [
        "### **Q7. Qual é a média do mínimo de noites para aluguel (minimum_nights)?**"
      ]
    },
    {
      "cell_type": "code",
      "metadata": {
        "id": "_VzNhrEgY82N",
        "colab_type": "code",
        "colab": {}
      },
      "source": [
        "# ver a média da coluna `minimum_nights``"
      ],
      "execution_count": 0,
      "outputs": []
    },
    {
      "cell_type": "markdown",
      "metadata": {
        "id": "GkvAg623RjoR",
        "colab_type": "text"
      },
      "source": [
        "## Conclusões\n"
      ]
    },
    {
      "cell_type": "markdown",
      "metadata": {
        "id": "rbZ3Hsy9Ypw8",
        "colab_type": "text"
      },
      "source": [
        ""
      ]
    }
  ]
}