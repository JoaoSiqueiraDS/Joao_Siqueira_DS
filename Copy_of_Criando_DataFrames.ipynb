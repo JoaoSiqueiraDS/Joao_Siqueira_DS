{
  "nbformat": 4,
  "nbformat_minor": 0,
  "metadata": {
    "colab": {
      "name": "Copy of Criando DataFrames.ipynb",
      "provenance": [],
      "collapsed_sections": [],
      "include_colab_link": true
    },
    "kernelspec": {
      "name": "python3",
      "display_name": "Python 3"
    }
  },
  "cells": [
    {
      "cell_type": "markdown",
      "metadata": {
        "id": "view-in-github",
        "colab_type": "text"
      },
      "source": [
        "<a href=\"https://colab.research.google.com/github/JoaoVitorMarques14/JoaoMarques/blob/master/Copy_of_Criando_DataFrames.ipynb\" target=\"_parent\"><img src=\"https://colab.research.google.com/assets/colab-badge.svg\" alt=\"Open In Colab\"/></a>"
      ]
    },
    {
      "cell_type": "markdown",
      "metadata": {
        "id": "vvplGyW2N3rX",
        "colab_type": "text"
      },
      "source": [
        "<img alt=\"Colaboratory logo\" width=\"15%\" src=\"https://raw.githubusercontent.com/carlosfab/escola-data-science/master/img/novo_logo_bg_claro.png\">\n",
        "\n",
        "#### **Data Science na Prática 2.0**\n",
        "*by [sigmoidal.ai](https://sigmoidal.ai)*\n",
        "\n",
        "---\n",
        "\n",
        "# Criando DataFrames\n",
        "\n",
        "No *notebook* anterior, importamos diretamente um arquivo `csv` da internet para uma estrutura *DataFrame*. Quando usamos a função `pd.read('arquivo.csv')` o Pandas já entendendo como deve agir em relação à estrutura de linhas e colunas.\n",
        "\n",
        "<center><img src=\"https://raw.githubusercontent.com/carlosfab/curso_data_science_na_pratica/master/modulo_02/from_csv_to_df.png\"></center>\n",
        "\n",
        "\n",
        "No entanto, existe a possibilidade de criarmos na mão um *DataFrame* usando diversas técnicas."
      ]
    },
    {
      "cell_type": "markdown",
      "metadata": {
        "id": "ug5l9vrTrsap",
        "colab_type": "text"
      },
      "source": [
        "## DataFrames a partir de Dicionários\n",
        "\n",
        "Uma das estruturas básicas do Python é o Dicionário. É muito conveniente informarmos nossos dados em uma variável do tipo `dict`, pois sua conversão em *DataFrame* é muito simples e direta."
      ]
    },
    {
      "cell_type": "code",
      "metadata": {
        "id": "bg1TtdzXAIzi",
        "colab_type": "code",
        "colab": {}
      },
      "source": [
        "# importar pandas\n",
        "import pandas as pd\n"
      ],
      "execution_count": null,
      "outputs": []
    },
    {
      "cell_type": "code",
      "metadata": {
        "id": "c_0eor9vtkYm",
        "colab_type": "code",
        "colab": {}
      },
      "source": [
        "# criar dicionário\n",
        "\n",
        "data_dict = {\n",
        "    \"Names\": [\"Anna\", \"João\", \"Ida\", \"Toddy\"],\n",
        "    \"City\": [\"RP\", \"JAC\", \"SB\", \"RP\"],\n",
        "    \"Age\": [\"33\", \"70\", \"69\", \"8\"],\n",
        "    \"Amazon\":[False, True, False, True]\n",
        "}"
      ],
      "execution_count": null,
      "outputs": []
    },
    {
      "cell_type": "code",
      "metadata": {
        "id": "-K51-hGnAPBg",
        "colab_type": "code",
        "colab": {}
      },
      "source": [
        "# criar DataFrame\n",
        "df_dict = pd.DataFrame(data_dict)"
      ],
      "execution_count": null,
      "outputs": []
    },
    {
      "cell_type": "code",
      "metadata": {
        "id": "tcrpgd-XAR6b",
        "colab_type": "code",
        "colab": {
          "base_uri": "https://localhost:8080/",
          "height": 166
        },
        "outputId": "04198a8b-488d-4ec7-bdaa-e7badcd5a809"
      },
      "source": [
        "# visualizar DataFrame\n",
        "df_dict"
      ],
      "execution_count": null,
      "outputs": [
        {
          "output_type": "execute_result",
          "data": {
            "text/html": [
              "<div>\n",
              "<style scoped>\n",
              "    .dataframe tbody tr th:only-of-type {\n",
              "        vertical-align: middle;\n",
              "    }\n",
              "\n",
              "    .dataframe tbody tr th {\n",
              "        vertical-align: top;\n",
              "    }\n",
              "\n",
              "    .dataframe thead th {\n",
              "        text-align: right;\n",
              "    }\n",
              "</style>\n",
              "<table border=\"1\" class=\"dataframe\">\n",
              "  <thead>\n",
              "    <tr style=\"text-align: right;\">\n",
              "      <th></th>\n",
              "      <th>Names</th>\n",
              "      <th>City</th>\n",
              "      <th>Age</th>\n",
              "      <th>Amazon</th>\n",
              "    </tr>\n",
              "  </thead>\n",
              "  <tbody>\n",
              "    <tr>\n",
              "      <th>0</th>\n",
              "      <td>Anna</td>\n",
              "      <td>RP</td>\n",
              "      <td>33</td>\n",
              "      <td>False</td>\n",
              "    </tr>\n",
              "    <tr>\n",
              "      <th>1</th>\n",
              "      <td>João</td>\n",
              "      <td>JAC</td>\n",
              "      <td>70</td>\n",
              "      <td>True</td>\n",
              "    </tr>\n",
              "    <tr>\n",
              "      <th>2</th>\n",
              "      <td>Ida</td>\n",
              "      <td>SB</td>\n",
              "      <td>69</td>\n",
              "      <td>False</td>\n",
              "    </tr>\n",
              "    <tr>\n",
              "      <th>3</th>\n",
              "      <td>Toddy</td>\n",
              "      <td>RP</td>\n",
              "      <td>8</td>\n",
              "      <td>True</td>\n",
              "    </tr>\n",
              "  </tbody>\n",
              "</table>\n",
              "</div>"
            ],
            "text/plain": [
              "   Names City Age  Amazon\n",
              "0   Anna   RP  33   False\n",
              "1   João  JAC  70    True\n",
              "2    Ida   SB  69   False\n",
              "3  Toddy   RP   8    True"
            ]
          },
          "metadata": {
            "tags": []
          },
          "execution_count": 14
        }
      ]
    },
    {
      "cell_type": "code",
      "metadata": {
        "id": "5zg1mzDUAbAG",
        "colab_type": "code",
        "colab": {}
      },
      "source": [
        "# criar id do usuário\n",
        "id_user = [222, 458, 897, 107]"
      ],
      "execution_count": null,
      "outputs": []
    },
    {
      "cell_type": "code",
      "metadata": {
        "id": "N443WKTvAp3G",
        "colab_type": "code",
        "colab": {}
      },
      "source": [
        "# associar o id do usuário à lista\n",
        "df_dict.index = id_user"
      ],
      "execution_count": null,
      "outputs": []
    },
    {
      "cell_type": "code",
      "metadata": {
        "id": "A6Fhe-svAucS",
        "colab_type": "code",
        "colab": {
          "base_uri": "https://localhost:8080/",
          "height": 166
        },
        "outputId": "67dba4d1-209a-4597-f066-31c6c9fa1cab"
      },
      "source": [
        "# ver o dataframe\n",
        "df_dict"
      ],
      "execution_count": null,
      "outputs": [
        {
          "output_type": "execute_result",
          "data": {
            "text/html": [
              "<div>\n",
              "<style scoped>\n",
              "    .dataframe tbody tr th:only-of-type {\n",
              "        vertical-align: middle;\n",
              "    }\n",
              "\n",
              "    .dataframe tbody tr th {\n",
              "        vertical-align: top;\n",
              "    }\n",
              "\n",
              "    .dataframe thead th {\n",
              "        text-align: right;\n",
              "    }\n",
              "</style>\n",
              "<table border=\"1\" class=\"dataframe\">\n",
              "  <thead>\n",
              "    <tr style=\"text-align: right;\">\n",
              "      <th></th>\n",
              "      <th>Names</th>\n",
              "      <th>City</th>\n",
              "      <th>Age</th>\n",
              "      <th>Amazon</th>\n",
              "    </tr>\n",
              "  </thead>\n",
              "  <tbody>\n",
              "    <tr>\n",
              "      <th>222</th>\n",
              "      <td>Anna</td>\n",
              "      <td>RP</td>\n",
              "      <td>33</td>\n",
              "      <td>False</td>\n",
              "    </tr>\n",
              "    <tr>\n",
              "      <th>458</th>\n",
              "      <td>João</td>\n",
              "      <td>JAC</td>\n",
              "      <td>70</td>\n",
              "      <td>True</td>\n",
              "    </tr>\n",
              "    <tr>\n",
              "      <th>897</th>\n",
              "      <td>Ida</td>\n",
              "      <td>SB</td>\n",
              "      <td>69</td>\n",
              "      <td>False</td>\n",
              "    </tr>\n",
              "    <tr>\n",
              "      <th>107</th>\n",
              "      <td>Toddy</td>\n",
              "      <td>RP</td>\n",
              "      <td>8</td>\n",
              "      <td>True</td>\n",
              "    </tr>\n",
              "  </tbody>\n",
              "</table>\n",
              "</div>"
            ],
            "text/plain": [
              "     Names City Age  Amazon\n",
              "222   Anna   RP  33   False\n",
              "458   João  JAC  70    True\n",
              "897    Ida   SB  69   False\n",
              "107  Toddy   RP   8    True"
            ]
          },
          "metadata": {
            "tags": []
          },
          "execution_count": 18
        }
      ]
    },
    {
      "cell_type": "code",
      "metadata": {
        "id": "-gbBEayqEOJB",
        "colab_type": "code",
        "colab": {
          "base_uri": "https://localhost:8080/",
          "height": 166
        },
        "outputId": "559e96bc-3886-4134-f81e-272ebc42bc10"
      },
      "source": [
        "df_dict.replace(\"Ida\", \"Vitor\")"
      ],
      "execution_count": null,
      "outputs": [
        {
          "output_type": "execute_result",
          "data": {
            "text/html": [
              "<div>\n",
              "<style scoped>\n",
              "    .dataframe tbody tr th:only-of-type {\n",
              "        vertical-align: middle;\n",
              "    }\n",
              "\n",
              "    .dataframe tbody tr th {\n",
              "        vertical-align: top;\n",
              "    }\n",
              "\n",
              "    .dataframe thead th {\n",
              "        text-align: right;\n",
              "    }\n",
              "</style>\n",
              "<table border=\"1\" class=\"dataframe\">\n",
              "  <thead>\n",
              "    <tr style=\"text-align: right;\">\n",
              "      <th></th>\n",
              "      <th>Names</th>\n",
              "      <th>City</th>\n",
              "      <th>Age</th>\n",
              "      <th>Amazon</th>\n",
              "    </tr>\n",
              "  </thead>\n",
              "  <tbody>\n",
              "    <tr>\n",
              "      <th>222</th>\n",
              "      <td>Anna</td>\n",
              "      <td>RP</td>\n",
              "      <td>33</td>\n",
              "      <td>False</td>\n",
              "    </tr>\n",
              "    <tr>\n",
              "      <th>458</th>\n",
              "      <td>João</td>\n",
              "      <td>JAC</td>\n",
              "      <td>70</td>\n",
              "      <td>True</td>\n",
              "    </tr>\n",
              "    <tr>\n",
              "      <th>897</th>\n",
              "      <td>Vitor</td>\n",
              "      <td>SB</td>\n",
              "      <td>69</td>\n",
              "      <td>False</td>\n",
              "    </tr>\n",
              "    <tr>\n",
              "      <th>107</th>\n",
              "      <td>Toddy</td>\n",
              "      <td>RP</td>\n",
              "      <td>8</td>\n",
              "      <td>True</td>\n",
              "    </tr>\n",
              "  </tbody>\n",
              "</table>\n",
              "</div>"
            ],
            "text/plain": [
              "     Names City Age  Amazon\n",
              "222   Anna   RP  33   False\n",
              "458   João  JAC  70    True\n",
              "897  Vitor   SB  69   False\n",
              "107  Toddy   RP   8    True"
            ]
          },
          "metadata": {
            "tags": []
          },
          "execution_count": 77
        }
      ]
    },
    {
      "cell_type": "code",
      "metadata": {
        "id": "qoZjyrmiGEOV",
        "colab_type": "code",
        "colab": {
          "base_uri": "https://localhost:8080/",
          "height": 166
        },
        "outputId": "9df8af93-862e-4671-fc4b-94ec9d9a8b76"
      },
      "source": [
        "df_dict[\"City\"] = df_dict[\"City\"].replace(\"RP\",\"XX\")\n",
        "df_dict"
      ],
      "execution_count": null,
      "outputs": [
        {
          "output_type": "execute_result",
          "data": {
            "text/html": [
              "<div>\n",
              "<style scoped>\n",
              "    .dataframe tbody tr th:only-of-type {\n",
              "        vertical-align: middle;\n",
              "    }\n",
              "\n",
              "    .dataframe tbody tr th {\n",
              "        vertical-align: top;\n",
              "    }\n",
              "\n",
              "    .dataframe thead th {\n",
              "        text-align: right;\n",
              "    }\n",
              "</style>\n",
              "<table border=\"1\" class=\"dataframe\">\n",
              "  <thead>\n",
              "    <tr style=\"text-align: right;\">\n",
              "      <th></th>\n",
              "      <th>Names</th>\n",
              "      <th>City</th>\n",
              "      <th>Age</th>\n",
              "      <th>Amazon</th>\n",
              "    </tr>\n",
              "  </thead>\n",
              "  <tbody>\n",
              "    <tr>\n",
              "      <th>222</th>\n",
              "      <td>Anna</td>\n",
              "      <td>XX</td>\n",
              "      <td>33</td>\n",
              "      <td>False</td>\n",
              "    </tr>\n",
              "    <tr>\n",
              "      <th>458</th>\n",
              "      <td>João</td>\n",
              "      <td>JAC</td>\n",
              "      <td>70</td>\n",
              "      <td>True</td>\n",
              "    </tr>\n",
              "    <tr>\n",
              "      <th>897</th>\n",
              "      <td>Ida</td>\n",
              "      <td>SB</td>\n",
              "      <td>69</td>\n",
              "      <td>False</td>\n",
              "    </tr>\n",
              "    <tr>\n",
              "      <th>107</th>\n",
              "      <td>Toddy</td>\n",
              "      <td>XX</td>\n",
              "      <td>8</td>\n",
              "      <td>True</td>\n",
              "    </tr>\n",
              "  </tbody>\n",
              "</table>\n",
              "</div>"
            ],
            "text/plain": [
              "     Names City Age  Amazon\n",
              "222   Anna   XX  33   False\n",
              "458   João  JAC  70    True\n",
              "897    Ida   SB  69   False\n",
              "107  Toddy   XX   8    True"
            ]
          },
          "metadata": {
            "tags": []
          },
          "execution_count": 86
        }
      ]
    },
    {
      "cell_type": "code",
      "metadata": {
        "id": "tHRRkrUnMVnK",
        "colab_type": "code",
        "colab": {
          "base_uri": "https://localhost:8080/",
          "height": 166
        },
        "outputId": "d7409383-c5a9-4cfe-b82a-bd483a247c5c"
      },
      "source": [
        "df_dict.at[222,\"Age\"] = 45\n",
        "df_dict"
      ],
      "execution_count": null,
      "outputs": [
        {
          "output_type": "execute_result",
          "data": {
            "text/html": [
              "<div>\n",
              "<style scoped>\n",
              "    .dataframe tbody tr th:only-of-type {\n",
              "        vertical-align: middle;\n",
              "    }\n",
              "\n",
              "    .dataframe tbody tr th {\n",
              "        vertical-align: top;\n",
              "    }\n",
              "\n",
              "    .dataframe thead th {\n",
              "        text-align: right;\n",
              "    }\n",
              "</style>\n",
              "<table border=\"1\" class=\"dataframe\">\n",
              "  <thead>\n",
              "    <tr style=\"text-align: right;\">\n",
              "      <th></th>\n",
              "      <th>Names</th>\n",
              "      <th>City</th>\n",
              "      <th>Age</th>\n",
              "      <th>Amazon</th>\n",
              "    </tr>\n",
              "  </thead>\n",
              "  <tbody>\n",
              "    <tr>\n",
              "      <th>222</th>\n",
              "      <td>Anna</td>\n",
              "      <td>XX</td>\n",
              "      <td>45</td>\n",
              "      <td>False</td>\n",
              "    </tr>\n",
              "    <tr>\n",
              "      <th>458</th>\n",
              "      <td>João</td>\n",
              "      <td>JAC</td>\n",
              "      <td>70</td>\n",
              "      <td>True</td>\n",
              "    </tr>\n",
              "    <tr>\n",
              "      <th>897</th>\n",
              "      <td>Ida</td>\n",
              "      <td>SB</td>\n",
              "      <td>69</td>\n",
              "      <td>False</td>\n",
              "    </tr>\n",
              "    <tr>\n",
              "      <th>107</th>\n",
              "      <td>Toddy</td>\n",
              "      <td>XX</td>\n",
              "      <td>8</td>\n",
              "      <td>True</td>\n",
              "    </tr>\n",
              "  </tbody>\n",
              "</table>\n",
              "</div>"
            ],
            "text/plain": [
              "     Names City Age  Amazon\n",
              "222   Anna   XX  45   False\n",
              "458   João  JAC  70    True\n",
              "897    Ida   SB  69   False\n",
              "107  Toddy   XX   8    True"
            ]
          },
          "metadata": {
            "tags": []
          },
          "execution_count": 92
        }
      ]
    },
    {
      "cell_type": "code",
      "metadata": {
        "id": "06XXNLr6RJRM",
        "colab_type": "code",
        "colab": {
          "base_uri": "https://localhost:8080/",
          "height": 166
        },
        "outputId": "5e882f11-a0e0-4e29-a91d-7302b691c69f"
      },
      "source": [
        "df_dict.iloc[:,[0,2]]"
      ],
      "execution_count": null,
      "outputs": [
        {
          "output_type": "execute_result",
          "data": {
            "text/html": [
              "<div>\n",
              "<style scoped>\n",
              "    .dataframe tbody tr th:only-of-type {\n",
              "        vertical-align: middle;\n",
              "    }\n",
              "\n",
              "    .dataframe tbody tr th {\n",
              "        vertical-align: top;\n",
              "    }\n",
              "\n",
              "    .dataframe thead th {\n",
              "        text-align: right;\n",
              "    }\n",
              "</style>\n",
              "<table border=\"1\" class=\"dataframe\">\n",
              "  <thead>\n",
              "    <tr style=\"text-align: right;\">\n",
              "      <th></th>\n",
              "      <th>Names</th>\n",
              "      <th>Age</th>\n",
              "    </tr>\n",
              "  </thead>\n",
              "  <tbody>\n",
              "    <tr>\n",
              "      <th>222</th>\n",
              "      <td>Anna</td>\n",
              "      <td>45</td>\n",
              "    </tr>\n",
              "    <tr>\n",
              "      <th>458</th>\n",
              "      <td>João</td>\n",
              "      <td>70</td>\n",
              "    </tr>\n",
              "    <tr>\n",
              "      <th>897</th>\n",
              "      <td>Ida</td>\n",
              "      <td>69</td>\n",
              "    </tr>\n",
              "    <tr>\n",
              "      <th>107</th>\n",
              "      <td>Toddy</td>\n",
              "      <td>8</td>\n",
              "    </tr>\n",
              "  </tbody>\n",
              "</table>\n",
              "</div>"
            ],
            "text/plain": [
              "     Names Age\n",
              "222   Anna  45\n",
              "458   João  70\n",
              "897    Ida  69\n",
              "107  Toddy   8"
            ]
          },
          "metadata": {
            "tags": []
          },
          "execution_count": 103
        }
      ]
    },
    {
      "cell_type": "code",
      "metadata": {
        "id": "RNK12YUui1ev",
        "colab_type": "code",
        "colab": {
          "base_uri": "https://localhost:8080/",
          "height": 47
        },
        "outputId": "d2215b96-0826-4793-84bd-4e9d19c663cf"
      },
      "source": [
        "df_dict.query('Age == \"45\"')"
      ],
      "execution_count": null,
      "outputs": [
        {
          "output_type": "execute_result",
          "data": {
            "text/html": [
              "<div>\n",
              "<style scoped>\n",
              "    .dataframe tbody tr th:only-of-type {\n",
              "        vertical-align: middle;\n",
              "    }\n",
              "\n",
              "    .dataframe tbody tr th {\n",
              "        vertical-align: top;\n",
              "    }\n",
              "\n",
              "    .dataframe thead th {\n",
              "        text-align: right;\n",
              "    }\n",
              "</style>\n",
              "<table border=\"1\" class=\"dataframe\">\n",
              "  <thead>\n",
              "    <tr style=\"text-align: right;\">\n",
              "      <th></th>\n",
              "      <th>Names</th>\n",
              "      <th>City</th>\n",
              "      <th>Age</th>\n",
              "      <th>Amazon</th>\n",
              "    </tr>\n",
              "  </thead>\n",
              "  <tbody>\n",
              "  </tbody>\n",
              "</table>\n",
              "</div>"
            ],
            "text/plain": [
              "Empty DataFrame\n",
              "Columns: [Names, City, Age, Amazon]\n",
              "Index: []"
            ]
          },
          "metadata": {
            "tags": []
          },
          "execution_count": 122
        }
      ]
    },
    {
      "cell_type": "markdown",
      "metadata": {
        "id": "Vy7_qfLMuhZE",
        "colab_type": "text"
      },
      "source": [
        "## DataFrames a partir de Listas\n",
        "\n",
        "Listas também são estruturas muito usadas em Python, e não é incomum termos que criar *DataFrames*  a partir destas.\n",
        "\n",
        "Para organizar nossas várias listas de um modo que seja fácil sia conversão em *DataFrame*, vou usar a função *built-in* `zip()`."
      ]
    },
    {
      "cell_type": "code",
      "metadata": {
        "id": "szoV_HzFvgDf",
        "colab_type": "code",
        "colab": {
          "base_uri": "https://localhost:8080/",
          "height": 166
        },
        "outputId": "524ebbc6-3e1b-440e-d9c4-6e07f09819bd"
      },
      "source": [
        "# listas\n",
        "data_list = [\n",
        "           [\"Anna\", \"RP\", \"33\", True],\n",
        "           [\"Joao\",\"JAC\",\"70\",False], \n",
        "           [\"Ida\",\"SB\",\"69\",True],\n",
        "           [\"Toddy\", \"RP\", \"8\", True]\n",
        "           ]\n",
        "\n",
        "# criar DataFrame\n",
        "df_list = pd.DataFrame(data_list, columns=[\"Name\", \"City\", \"Age\", \"Amazon\"], index=[256,235,789,600])\n",
        "\n",
        "# visualizar DataFrame\n",
        "df_list"
      ],
      "execution_count": null,
      "outputs": [
        {
          "output_type": "execute_result",
          "data": {
            "text/html": [
              "<div>\n",
              "<style scoped>\n",
              "    .dataframe tbody tr th:only-of-type {\n",
              "        vertical-align: middle;\n",
              "    }\n",
              "\n",
              "    .dataframe tbody tr th {\n",
              "        vertical-align: top;\n",
              "    }\n",
              "\n",
              "    .dataframe thead th {\n",
              "        text-align: right;\n",
              "    }\n",
              "</style>\n",
              "<table border=\"1\" class=\"dataframe\">\n",
              "  <thead>\n",
              "    <tr style=\"text-align: right;\">\n",
              "      <th></th>\n",
              "      <th>Name</th>\n",
              "      <th>City</th>\n",
              "      <th>Age</th>\n",
              "      <th>Amazon</th>\n",
              "    </tr>\n",
              "  </thead>\n",
              "  <tbody>\n",
              "    <tr>\n",
              "      <th>256</th>\n",
              "      <td>Anna</td>\n",
              "      <td>RP</td>\n",
              "      <td>33</td>\n",
              "      <td>True</td>\n",
              "    </tr>\n",
              "    <tr>\n",
              "      <th>235</th>\n",
              "      <td>Joao</td>\n",
              "      <td>JAC</td>\n",
              "      <td>70</td>\n",
              "      <td>False</td>\n",
              "    </tr>\n",
              "    <tr>\n",
              "      <th>789</th>\n",
              "      <td>Ida</td>\n",
              "      <td>SB</td>\n",
              "      <td>69</td>\n",
              "      <td>True</td>\n",
              "    </tr>\n",
              "    <tr>\n",
              "      <th>600</th>\n",
              "      <td>Toddy</td>\n",
              "      <td>RP</td>\n",
              "      <td>8</td>\n",
              "      <td>True</td>\n",
              "    </tr>\n",
              "  </tbody>\n",
              "</table>\n",
              "</div>"
            ],
            "text/plain": [
              "      Name City Age  Amazon\n",
              "256   Anna   RP  33    True\n",
              "235   Joao  JAC  70   False\n",
              "789    Ida   SB  69    True\n",
              "600  Toddy   RP   8    True"
            ]
          },
          "metadata": {
            "tags": []
          },
          "execution_count": 24
        }
      ]
    },
    {
      "cell_type": "code",
      "metadata": {
        "id": "-gr98OrxB3zW",
        "colab_type": "code",
        "colab": {
          "base_uri": "https://localhost:8080/",
          "height": 101
        },
        "outputId": "1d6ace85-148a-4c1b-f839-b5f6b91f8f9e"
      },
      "source": [
        "# selecionar pelo index\n",
        "df_list.loc[600]"
      ],
      "execution_count": null,
      "outputs": [
        {
          "output_type": "execute_result",
          "data": {
            "text/plain": [
              "Name      Toddy\n",
              "City         RP\n",
              "Age           8\n",
              "Amazon     True\n",
              "Name: 600, dtype: object"
            ]
          },
          "metadata": {
            "tags": []
          },
          "execution_count": 27
        }
      ]
    },
    {
      "cell_type": "markdown",
      "metadata": {
        "id": "qtoPc3X40Bal",
        "colab_type": "text"
      },
      "source": [
        "## Criar novas colunas\n",
        "\n",
        "Uma maneira extremamente conveniente de criar novas colunas em um *DataFrame* é usar uma funcionalidade do Pandas conhecida como *broadcasting*.\n",
        "\n",
        "Informanda o nome da nova coluna e declarando apenas um valor, este é replicado para todas as linhas do *DataFrame*"
      ]
    },
    {
      "cell_type": "code",
      "metadata": {
        "id": "wfw9Ojec1ED3",
        "colab_type": "code",
        "colab": {
          "base_uri": "https://localhost:8080/",
          "height": 166
        },
        "outputId": "5662a853-2c2d-48d8-89f3-594d0edeaa82"
      },
      "source": [
        "# criar coluna \"saldo\"\n",
        "df_list[\"$\"] = 0.0\n",
        "\n",
        "# visualizar DataFrame\n",
        "df_list"
      ],
      "execution_count": null,
      "outputs": [
        {
          "output_type": "execute_result",
          "data": {
            "text/html": [
              "<div>\n",
              "<style scoped>\n",
              "    .dataframe tbody tr th:only-of-type {\n",
              "        vertical-align: middle;\n",
              "    }\n",
              "\n",
              "    .dataframe tbody tr th {\n",
              "        vertical-align: top;\n",
              "    }\n",
              "\n",
              "    .dataframe thead th {\n",
              "        text-align: right;\n",
              "    }\n",
              "</style>\n",
              "<table border=\"1\" class=\"dataframe\">\n",
              "  <thead>\n",
              "    <tr style=\"text-align: right;\">\n",
              "      <th></th>\n",
              "      <th>Name</th>\n",
              "      <th>City</th>\n",
              "      <th>Age</th>\n",
              "      <th>Amazon</th>\n",
              "      <th>$</th>\n",
              "    </tr>\n",
              "  </thead>\n",
              "  <tbody>\n",
              "    <tr>\n",
              "      <th>256</th>\n",
              "      <td>Anna</td>\n",
              "      <td>RP</td>\n",
              "      <td>33</td>\n",
              "      <td>True</td>\n",
              "      <td>0.0</td>\n",
              "    </tr>\n",
              "    <tr>\n",
              "      <th>235</th>\n",
              "      <td>Joao</td>\n",
              "      <td>JAC</td>\n",
              "      <td>70</td>\n",
              "      <td>False</td>\n",
              "      <td>0.0</td>\n",
              "    </tr>\n",
              "    <tr>\n",
              "      <th>789</th>\n",
              "      <td>Ida</td>\n",
              "      <td>SB</td>\n",
              "      <td>69</td>\n",
              "      <td>True</td>\n",
              "      <td>0.0</td>\n",
              "    </tr>\n",
              "    <tr>\n",
              "      <th>600</th>\n",
              "      <td>Toddy</td>\n",
              "      <td>RP</td>\n",
              "      <td>8</td>\n",
              "      <td>True</td>\n",
              "      <td>0.0</td>\n",
              "    </tr>\n",
              "  </tbody>\n",
              "</table>\n",
              "</div>"
            ],
            "text/plain": [
              "      Name City Age  Amazon    $\n",
              "256   Anna   RP  33    True  0.0\n",
              "235   Joao  JAC  70   False  0.0\n",
              "789    Ida   SB  69    True  0.0\n",
              "600  Toddy   RP   8    True  0.0"
            ]
          },
          "metadata": {
            "tags": []
          },
          "execution_count": 29
        }
      ]
    },
    {
      "cell_type": "markdown",
      "metadata": {
        "id": "nmYdZtGu1NZL",
        "colab_type": "text"
      },
      "source": [
        "## Modificar *index* e colunas\n",
        "\n",
        "Às vezes, precisamos alterar o nome dos índices ou o *label* das colunas. Se você olhar na célula acima, veja que na esquerda do *DataFrame* o index de cada linha é representado por um número entre 0 e 3.\n",
        "\n",
        "É possível alterar esse atributo da variável acessando diretamente assim:"
      ]
    },
    {
      "cell_type": "code",
      "metadata": {
        "id": "tiGByguXlPUc",
        "colab_type": "code",
        "colab": {
          "base_uri": "https://localhost:8080/",
          "height": 34
        },
        "outputId": "0d5750c5-e1e0-42ce-91f9-eb371baed654"
      },
      "source": [
        "#index\n",
        "df_list.index"
      ],
      "execution_count": null,
      "outputs": [
        {
          "output_type": "execute_result",
          "data": {
            "text/plain": [
              "Int64Index([256, 235, 789, 600], dtype='int64')"
            ]
          },
          "metadata": {
            "tags": []
          },
          "execution_count": 30
        }
      ]
    },
    {
      "cell_type": "code",
      "metadata": {
        "id": "I-x7DIoU2I56",
        "colab_type": "code",
        "colab": {
          "base_uri": "https://localhost:8080/",
          "height": 166
        },
        "outputId": "789ca034-260f-42c2-a7cb-310983429069"
      },
      "source": [
        "# alterar o index do df\n",
        "df_list.index = [1, 2, 3, 4]\n",
        "\n",
        "# visualizar DataFrame\n",
        "df_list\n"
      ],
      "execution_count": null,
      "outputs": [
        {
          "output_type": "execute_result",
          "data": {
            "text/html": [
              "<div>\n",
              "<style scoped>\n",
              "    .dataframe tbody tr th:only-of-type {\n",
              "        vertical-align: middle;\n",
              "    }\n",
              "\n",
              "    .dataframe tbody tr th {\n",
              "        vertical-align: top;\n",
              "    }\n",
              "\n",
              "    .dataframe thead th {\n",
              "        text-align: right;\n",
              "    }\n",
              "</style>\n",
              "<table border=\"1\" class=\"dataframe\">\n",
              "  <thead>\n",
              "    <tr style=\"text-align: right;\">\n",
              "      <th></th>\n",
              "      <th>Name</th>\n",
              "      <th>City</th>\n",
              "      <th>Age</th>\n",
              "      <th>Amazon</th>\n",
              "      <th>$</th>\n",
              "    </tr>\n",
              "  </thead>\n",
              "  <tbody>\n",
              "    <tr>\n",
              "      <th>1</th>\n",
              "      <td>Anna</td>\n",
              "      <td>RP</td>\n",
              "      <td>33</td>\n",
              "      <td>True</td>\n",
              "      <td>0.0</td>\n",
              "    </tr>\n",
              "    <tr>\n",
              "      <th>2</th>\n",
              "      <td>Joao</td>\n",
              "      <td>JAC</td>\n",
              "      <td>70</td>\n",
              "      <td>False</td>\n",
              "      <td>0.0</td>\n",
              "    </tr>\n",
              "    <tr>\n",
              "      <th>3</th>\n",
              "      <td>Ida</td>\n",
              "      <td>SB</td>\n",
              "      <td>69</td>\n",
              "      <td>True</td>\n",
              "      <td>0.0</td>\n",
              "    </tr>\n",
              "    <tr>\n",
              "      <th>4</th>\n",
              "      <td>Toddy</td>\n",
              "      <td>RP</td>\n",
              "      <td>8</td>\n",
              "      <td>True</td>\n",
              "      <td>0.0</td>\n",
              "    </tr>\n",
              "  </tbody>\n",
              "</table>\n",
              "</div>"
            ],
            "text/plain": [
              "    Name City Age  Amazon    $\n",
              "1   Anna   RP  33    True  0.0\n",
              "2   Joao  JAC  70   False  0.0\n",
              "3    Ida   SB  69    True  0.0\n",
              "4  Toddy   RP   8    True  0.0"
            ]
          },
          "metadata": {
            "tags": []
          },
          "execution_count": 31
        }
      ]
    },
    {
      "cell_type": "markdown",
      "metadata": {
        "id": "nraFA_Zw2SKT",
        "colab_type": "text"
      },
      "source": [
        "Da mesma maneira, se eu precisar alterar o nome das colunas, posso alterar diretamente no atributo da variável:"
      ]
    },
    {
      "cell_type": "code",
      "metadata": {
        "id": "9cZdwkoq2aPG",
        "colab_type": "code",
        "colab": {
          "base_uri": "https://localhost:8080/",
          "height": 166
        },
        "outputId": "3d8fe66a-628e-4e44-d54f-bcddc12512e6"
      },
      "source": [
        "# alterar os labels das colunas\n",
        "df_list.columns = ['Nome do Cliente', \"Idade\", \"Naturalidade\", \"Fez Compras?\", \"Saldo na Loja\"]\n",
        "\n",
        "# visualizar DataFrame\n",
        "df_list"
      ],
      "execution_count": null,
      "outputs": [
        {
          "output_type": "execute_result",
          "data": {
            "text/html": [
              "<div>\n",
              "<style scoped>\n",
              "    .dataframe tbody tr th:only-of-type {\n",
              "        vertical-align: middle;\n",
              "    }\n",
              "\n",
              "    .dataframe tbody tr th {\n",
              "        vertical-align: top;\n",
              "    }\n",
              "\n",
              "    .dataframe thead th {\n",
              "        text-align: right;\n",
              "    }\n",
              "</style>\n",
              "<table border=\"1\" class=\"dataframe\">\n",
              "  <thead>\n",
              "    <tr style=\"text-align: right;\">\n",
              "      <th></th>\n",
              "      <th>Nome do Cliente</th>\n",
              "      <th>Idade</th>\n",
              "      <th>Naturalidade</th>\n",
              "      <th>Fez Compras?</th>\n",
              "      <th>Saldo na Loja</th>\n",
              "    </tr>\n",
              "  </thead>\n",
              "  <tbody>\n",
              "    <tr>\n",
              "      <th>1</th>\n",
              "      <td>Anna</td>\n",
              "      <td>RP</td>\n",
              "      <td>33</td>\n",
              "      <td>True</td>\n",
              "      <td>0.0</td>\n",
              "    </tr>\n",
              "    <tr>\n",
              "      <th>2</th>\n",
              "      <td>Joao</td>\n",
              "      <td>JAC</td>\n",
              "      <td>70</td>\n",
              "      <td>False</td>\n",
              "      <td>0.0</td>\n",
              "    </tr>\n",
              "    <tr>\n",
              "      <th>3</th>\n",
              "      <td>Ida</td>\n",
              "      <td>SB</td>\n",
              "      <td>69</td>\n",
              "      <td>True</td>\n",
              "      <td>0.0</td>\n",
              "    </tr>\n",
              "    <tr>\n",
              "      <th>4</th>\n",
              "      <td>Toddy</td>\n",
              "      <td>RP</td>\n",
              "      <td>8</td>\n",
              "      <td>True</td>\n",
              "      <td>0.0</td>\n",
              "    </tr>\n",
              "  </tbody>\n",
              "</table>\n",
              "</div>"
            ],
            "text/plain": [
              "  Nome do Cliente Idade Naturalidade  Fez Compras?  Saldo na Loja\n",
              "1            Anna    RP           33          True            0.0\n",
              "2            Joao   JAC           70         False            0.0\n",
              "3             Ida    SB           69          True            0.0\n",
              "4           Toddy    RP            8          True            0.0"
            ]
          },
          "metadata": {
            "tags": []
          },
          "execution_count": 52
        }
      ]
    },
    {
      "cell_type": "code",
      "metadata": {
        "id": "-G-7TZ1yBQ1w",
        "colab_type": "code",
        "colab": {
          "base_uri": "https://localhost:8080/",
          "height": 118
        },
        "outputId": "463b23ca-d6e5-4edf-cfae-1cb7a978d9ec"
      },
      "source": [
        "df_list.loc[1]"
      ],
      "execution_count": null,
      "outputs": [
        {
          "output_type": "execute_result",
          "data": {
            "text/plain": [
              "Nome do Cliente    Anna\n",
              "Idade                RP\n",
              "Naturalidade         33\n",
              "Fez Compras?       True\n",
              "Saldo na Loja         0\n",
              "Name: 1, dtype: object"
            ]
          },
          "metadata": {
            "tags": []
          },
          "execution_count": 36
        }
      ]
    },
    {
      "cell_type": "code",
      "metadata": {
        "id": "epqgE2YoBYcv",
        "colab_type": "code",
        "colab": {
          "base_uri": "https://localhost:8080/",
          "height": 166
        },
        "outputId": "d1a9414a-acb7-46d0-dec3-ce331bfb02c1"
      },
      "source": [
        "df_list[\"Naturalidade\"] = df_list[\"Naturalidade\"].replace(33,45)\n",
        "df_list\n"
      ],
      "execution_count": null,
      "outputs": [
        {
          "output_type": "execute_result",
          "data": {
            "text/html": [
              "<div>\n",
              "<style scoped>\n",
              "    .dataframe tbody tr th:only-of-type {\n",
              "        vertical-align: middle;\n",
              "    }\n",
              "\n",
              "    .dataframe tbody tr th {\n",
              "        vertical-align: top;\n",
              "    }\n",
              "\n",
              "    .dataframe thead th {\n",
              "        text-align: right;\n",
              "    }\n",
              "</style>\n",
              "<table border=\"1\" class=\"dataframe\">\n",
              "  <thead>\n",
              "    <tr style=\"text-align: right;\">\n",
              "      <th></th>\n",
              "      <th>Nome do Cliente</th>\n",
              "      <th>Idade</th>\n",
              "      <th>Naturalidade</th>\n",
              "      <th>Fez Compras?</th>\n",
              "      <th>Saldo na Loja</th>\n",
              "    </tr>\n",
              "  </thead>\n",
              "  <tbody>\n",
              "    <tr>\n",
              "      <th>1</th>\n",
              "      <td>Anna</td>\n",
              "      <td>RP</td>\n",
              "      <td>33</td>\n",
              "      <td>True</td>\n",
              "      <td>0.0</td>\n",
              "    </tr>\n",
              "    <tr>\n",
              "      <th>2</th>\n",
              "      <td>Joao</td>\n",
              "      <td>JAC</td>\n",
              "      <td>70</td>\n",
              "      <td>False</td>\n",
              "      <td>0.0</td>\n",
              "    </tr>\n",
              "    <tr>\n",
              "      <th>3</th>\n",
              "      <td>Ida</td>\n",
              "      <td>SB</td>\n",
              "      <td>69</td>\n",
              "      <td>True</td>\n",
              "      <td>0.0</td>\n",
              "    </tr>\n",
              "    <tr>\n",
              "      <th>4</th>\n",
              "      <td>Toddy</td>\n",
              "      <td>RP</td>\n",
              "      <td>8</td>\n",
              "      <td>True</td>\n",
              "      <td>0.0</td>\n",
              "    </tr>\n",
              "  </tbody>\n",
              "</table>\n",
              "</div>"
            ],
            "text/plain": [
              "  Nome do Cliente Idade Naturalidade  Fez Compras?  Saldo na Loja\n",
              "1            Anna    RP           33          True            0.0\n",
              "2            Joao   JAC           70         False            0.0\n",
              "3             Ida    SB           69          True            0.0\n",
              "4           Toddy    RP            8          True            0.0"
            ]
          },
          "metadata": {
            "tags": []
          },
          "execution_count": 53
        }
      ]
    }
  ]
}